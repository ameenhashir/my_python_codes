{
 "cells": [
  {
   "cell_type": "markdown",
   "metadata": {},
   "source": [
    "https://www.youtube.com/watch?v=bgATKeiNcL8&list=PLS1QulWo1RIZ77GWt3rQUggB7vm46ylYO&index=15"
   ]
  },
  {
   "cell_type": "markdown",
   "metadata": {},
   "source": [
    "<li>Class - Blue print of Object\n",
    "<li>Methods - functions in Class ( Actions)\n",
    "<li>Attibutes - Class variables (State of Object)\n",
    "<li>Object - is an instance of a class"
   ]
  },
  {
   "cell_type": "markdown",
   "metadata": {},
   "source": [
    "### Define a class and assign an attribute"
   ]
  },
  {
   "cell_type": "code",
   "execution_count": 2,
   "metadata": {},
   "outputs": [
    {
     "name": "stdout",
     "output_type": "stream",
     "text": [
      "10\n",
      "20\n"
     ]
    }
   ],
   "source": [
    "class Rectangle:\n",
    "    pass\n",
    "\n",
    "rect = Rectangle()\n",
    "rect.length = 10\n",
    "rect.width = 20\n",
    "\n",
    "print(rect.length)\n",
    "print(rect.width)"
   ]
  },
  {
   "cell_type": "markdown",
   "metadata": {},
   "source": [
    "Note : To a class object , we can add any object outside and will be linked to class object"
   ]
  },
  {
   "cell_type": "markdown",
   "metadata": {},
   "source": [
    "### Constructor"
   ]
  },
  {
   "cell_type": "code",
   "execution_count": 6,
   "metadata": {},
   "outputs": [
    {
     "name": "stdout",
     "output_type": "stream",
     "text": [
      "Area is 200\n"
     ]
    }
   ],
   "source": [
    "class Rectangle:\n",
    "    def __init__(self,length,width):\n",
    "        self.length = length\n",
    "        self.width = width\n",
    "        \n",
    "    def area(self):\n",
    "        return self.length * self.width\n",
    "        \n",
    "rect = Rectangle(10,20)\n",
    "print(f'Area is {rect.area()}')"
   ]
  },
  {
   "cell_type": "markdown",
   "metadata": {},
   "source": [
    "Note : the first attribute to all methods in class in self , which is the class object reference\n",
    "    <br>When a class is instantiated , by default , first parameter passed to constuctur is the class object reference.\n",
    "    <br>We can use any name instead of self but concept he is the first parameter in constructor will refernce as object reference\n",
    "    <br>\n",
    "    <pre>&#95;&#95;init&#95;&#95;</pre> method is the default method which is called while instantiating a class.So it act as a constructor in Python.Python does not support destructor method as by default garbage collection is done by python."
   ]
  },
  {
   "cell_type": "markdown",
   "metadata": {},
   "source": [
    "### Multiple Constructors"
   ]
  },
  {
   "cell_type": "code",
   "execution_count": 10,
   "metadata": {},
   "outputs": [
    {
     "ename": "TypeError",
     "evalue": "__init__() takes 1 positional argument but 3 were given",
     "output_type": "error",
     "traceback": [
      "\u001b[1;31m---------------------------------------------------------------------------\u001b[0m",
      "\u001b[1;31mTypeError\u001b[0m                                 Traceback (most recent call last)",
      "\u001b[1;32m<ipython-input-10-5130d14e8a7e>\u001b[0m in \u001b[0;36m<module>\u001b[1;34m\u001b[0m\n\u001b[0;32m      7\u001b[0m         \u001b[0mprint\u001b[0m\u001b[1;33m(\u001b[0m\u001b[1;34m\"2nd constructor\"\u001b[0m\u001b[1;33m)\u001b[0m\u001b[1;33m\u001b[0m\u001b[1;33m\u001b[0m\u001b[0m\n\u001b[0;32m      8\u001b[0m \u001b[1;33m\u001b[0m\u001b[0m\n\u001b[1;32m----> 9\u001b[1;33m \u001b[0mrect\u001b[0m \u001b[1;33m=\u001b[0m \u001b[0mRectangle\u001b[0m\u001b[1;33m(\u001b[0m\u001b[1;36m10\u001b[0m\u001b[1;33m,\u001b[0m\u001b[1;36m20\u001b[0m\u001b[1;33m)\u001b[0m\u001b[1;33m\u001b[0m\u001b[1;33m\u001b[0m\u001b[0m\n\u001b[0m",
      "\u001b[1;31mTypeError\u001b[0m: __init__() takes 1 positional argument but 3 were given"
     ]
    }
   ],
   "source": [
    "class Rectangle:\n",
    "    def __init__(self,length,width):\n",
    "        self.length = length\n",
    "        self.width = width\n",
    "        print(\"1st constructor\")\n",
    "    def __init__(self):\n",
    "        print(\"2nd constructor\")\n",
    "\n",
    "rect = Rectangle(10,20)"
   ]
  },
  {
   "cell_type": "code",
   "execution_count": 11,
   "metadata": {},
   "outputs": [
    {
     "name": "stdout",
     "output_type": "stream",
     "text": [
      "2nd constructor\n"
     ]
    }
   ],
   "source": [
    "rect = Rectangle()"
   ]
  },
  {
   "cell_type": "markdown",
   "metadata": {},
   "source": [
    "Note : even if we define multiple constructors , only the one which get called wil be the last described one."
   ]
  },
  {
   "cell_type": "code",
   "execution_count": 13,
   "metadata": {},
   "outputs": [
    {
     "name": "stdout",
     "output_type": "stream",
     "text": [
      "all pass\n"
     ]
    }
   ],
   "source": [
    "#To give variable length aruguments\n",
    "class Rectangle:\n",
    "    def __init__(self,*args,**kwargs):\n",
    "        pass\n",
    "\n",
    "rect = Rectangle()\n",
    "rect = Rectangle(10,20)\n",
    "rect = Rectangle(10,20,type='rectangle')\n",
    "print('all pass')"
   ]
  },
  {
   "cell_type": "markdown",
   "metadata": {},
   "source": [
    "### Encapsulation\n",
    "    Stands for Imformation hiding\n",
    "    Python has no public,private,protected keyword instead uses double underscore to make variable private\n",
    "    "
   ]
  },
  {
   "cell_type": "code",
   "execution_count": 17,
   "metadata": {},
   "outputs": [
    {
     "name": "stdout",
     "output_type": "stream",
     "text": [
      "red\n",
      "100\n"
     ]
    }
   ],
   "source": [
    "# accessing class variables outside the class\n",
    "class Car:\n",
    "    def __init__(self,color,speed):\n",
    "        self.color = color\n",
    "        self.speed = speed\n",
    "        \n",
    "car1 = Car('red',100)\n",
    "print(car1.color)\n",
    "print(car1.speed)"
   ]
  },
  {
   "cell_type": "code",
   "execution_count": 20,
   "metadata": {},
   "outputs": [
    {
     "name": "stdout",
     "output_type": "stream",
     "text": [
      "10\n",
      "100\n"
     ]
    },
    {
     "ename": "AttributeError",
     "evalue": "'Car' object has no attribute '__color'",
     "output_type": "error",
     "traceback": [
      "\u001b[1;31m---------------------------------------------------------------------------\u001b[0m",
      "\u001b[1;31mAttributeError\u001b[0m                            Traceback (most recent call last)",
      "\u001b[1;32m<ipython-input-20-c54e72c847f9>\u001b[0m in \u001b[0;36m<module>\u001b[1;34m\u001b[0m\n\u001b[0;32m     10\u001b[0m \u001b[0mprint\u001b[0m\u001b[1;33m(\u001b[0m\u001b[0mcar1\u001b[0m\u001b[1;33m.\u001b[0m\u001b[0ma\u001b[0m\u001b[1;33m)\u001b[0m \u001b[1;31m#is a public variable and displays value\u001b[0m\u001b[1;33m\u001b[0m\u001b[1;33m\u001b[0m\u001b[0m\n\u001b[0;32m     11\u001b[0m \u001b[0mprint\u001b[0m\u001b[1;33m(\u001b[0m\u001b[0mcar1\u001b[0m\u001b[1;33m.\u001b[0m\u001b[0m_a\u001b[0m\u001b[1;33m)\u001b[0m \u001b[1;31m#is a public variable and displays value,variable made private with double underscore\u001b[0m\u001b[1;33m\u001b[0m\u001b[1;33m\u001b[0m\u001b[0m\n\u001b[1;32m---> 12\u001b[1;33m \u001b[0mprint\u001b[0m\u001b[1;33m(\u001b[0m\u001b[0mcar1\u001b[0m\u001b[1;33m.\u001b[0m\u001b[0m__color\u001b[0m\u001b[1;33m)\u001b[0m \u001b[1;31m#give error since __color is private to class\u001b[0m\u001b[1;33m\u001b[0m\u001b[1;33m\u001b[0m\u001b[0m\n\u001b[0m\u001b[0;32m     13\u001b[0m \u001b[0mprint\u001b[0m\u001b[1;33m(\u001b[0m\u001b[0mcar1\u001b[0m\u001b[1;33m.\u001b[0m\u001b[0m__speed\u001b[0m\u001b[1;33m)\u001b[0m \u001b[1;31m#give error since __speed is private to class\u001b[0m\u001b[1;33m\u001b[0m\u001b[1;33m\u001b[0m\u001b[0m\n",
      "\u001b[1;31mAttributeError\u001b[0m: 'Car' object has no attribute '__color'"
     ]
    }
   ],
   "source": [
    "# making class variables private\n",
    "class Car:\n",
    "    def __init__(self,color,speed):\n",
    "        self.__color = color\n",
    "        self.__speed = speed\n",
    "        self.a = 10\n",
    "        self._a = 100\n",
    "        \n",
    "car1 = Car('red',100)\n",
    "print(car1.a) #is a public variable and displays value\n",
    "print(car1._a) #is a public variable and displays value,variable made private with double underscore\n",
    "print(car1.__color) #give error since __color is private to class\n",
    "print(car1.__speed) #give error since __speed is private to class"
   ]
  },
  {
   "cell_type": "code",
   "execution_count": 21,
   "metadata": {},
   "outputs": [
    {
     "name": "stdout",
     "output_type": "stream",
     "text": [
      "red\n",
      "100\n"
     ]
    }
   ],
   "source": [
    "# define getter and setter for private variables\n",
    "# making class variables private\n",
    "class Car:\n",
    "    def __init__(self,color,speed):\n",
    "        self.__color = color\n",
    "        self.__speed = speed\n",
    "     \n",
    "    def set_color(self,color):\n",
    "        self.__color = color\n",
    "        \n",
    "    def get_color(self):\n",
    "        return self.__color\n",
    "    \n",
    "    def set_speed(self,speed):\n",
    "        self.__speed = speed\n",
    "        \n",
    "    def get_speed(self):\n",
    "        return self.__speed  \n",
    "    \n",
    "car1 = Car('red',100)\n",
    "car1.set_color = 'Green'\n",
    "print(car1.get_color())\n",
    "print(car1.get_speed())"
   ]
  },
  {
   "cell_type": "code",
   "execution_count": 22,
   "metadata": {},
   "outputs": [
    {
     "ename": "AttributeError",
     "evalue": "'Car' object has no attribute '__private_method'",
     "output_type": "error",
     "traceback": [
      "\u001b[1;31m---------------------------------------------------------------------------\u001b[0m",
      "\u001b[1;31mAttributeError\u001b[0m                            Traceback (most recent call last)",
      "\u001b[1;32m<ipython-input-22-10c26dc39fd9>\u001b[0m in \u001b[0;36m<module>\u001b[1;34m\u001b[0m\n\u001b[0;32m      9\u001b[0m \u001b[1;33m\u001b[0m\u001b[0m\n\u001b[0;32m     10\u001b[0m \u001b[0mcar1\u001b[0m \u001b[1;33m=\u001b[0m \u001b[0mCar\u001b[0m\u001b[1;33m(\u001b[0m\u001b[1;34m'yellow'\u001b[0m\u001b[1;33m,\u001b[0m\u001b[1;36m10\u001b[0m\u001b[1;33m)\u001b[0m\u001b[1;33m\u001b[0m\u001b[1;33m\u001b[0m\u001b[0m\n\u001b[1;32m---> 11\u001b[1;33m \u001b[0mcar1\u001b[0m\u001b[1;33m.\u001b[0m\u001b[0m__private_method\u001b[0m\u001b[1;33m\u001b[0m\u001b[1;33m\u001b[0m\u001b[0m\n\u001b[0m",
      "\u001b[1;31mAttributeError\u001b[0m: 'Car' object has no attribute '__private_method'"
     ]
    }
   ],
   "source": [
    "# Private methods\n",
    "class Car:\n",
    "    def __init__(self,color,speed):\n",
    "        self.__color = color\n",
    "        self.__speed = speed\n",
    "    \n",
    "    def __private_method(self):\n",
    "        pass\n",
    "    \n",
    "car1 = Car('yellow',10)\n",
    "car1.__private_method"
   ]
  },
  {
   "cell_type": "markdown",
   "metadata": {},
   "source": [
    "### Inheritance - Defines \"IS A\" relationship\n",
    "    ex: cat is an animal"
   ]
  },
  {
   "cell_type": "code",
   "execution_count": 29,
   "metadata": {},
   "outputs": [
    {
     "name": "stdout",
     "output_type": "stream",
     "text": [
      "200\n",
      "100.0\n"
     ]
    }
   ],
   "source": [
    "class Polygon:\n",
    "    __length = None\n",
    "    __width = None\n",
    "    \n",
    "    def set_values(self,length,width):\n",
    "        self.__length = length\n",
    "        self.__width = width\n",
    "        \n",
    "    def get_length(self):\n",
    "        return self.__length\n",
    "        \n",
    "    def get_width(self):\n",
    "        return self.__width\n",
    "        \n",
    "class Rectangle(Polygon): # Rectagle class inherites polygon class,all public varibale and methods in Polygon class no accessible to Rectangle\n",
    "    def area(self):\n",
    "        return self.get_length() * self.get_width()\n",
    "    \n",
    "class Triangle(Polygon): # Triangle class inherites polygon class,all public varibale and methods in Polygon class no accessible to Triangle\n",
    "    def area(self):\n",
    "        return self.get_length() * self.get_width() / 2\n",
    "    \n",
    "rect1 = Rectangle()\n",
    "tri1 = Triangle()\n",
    "\n",
    "rect1.set_values(10,20)\n",
    "tri1.set_values(10,20)\n",
    "\n",
    "print(rect1.area())\n",
    "print(tri1.area())"
   ]
  },
  {
   "cell_type": "markdown",
   "metadata": {},
   "source": [
    "#### Define as Modules"
   ]
  },
  {
   "cell_type": "code",
   "execution_count": 42,
   "metadata": {},
   "outputs": [
    {
     "name": "stdout",
     "output_type": "stream",
     "text": [
      "Overwriting module1/polygon.py\n"
     ]
    }
   ],
   "source": [
    "%%writefile module1/polygon.py\n",
    "class Polygon1:\n",
    "    __length = None\n",
    "    __width = None\n",
    "    \n",
    "    def set_values(self,length,width):\n",
    "        self.__length = length\n",
    "        self.__width = width\n",
    "        \n",
    "    def get_length(self):\n",
    "        return self.__length\n",
    "        \n",
    "    def get_width(self):\n",
    "        return self.__width"
   ]
  },
  {
   "cell_type": "code",
   "execution_count": 49,
   "metadata": {},
   "outputs": [
    {
     "name": "stdout",
     "output_type": "stream",
     "text": [
      "Overwriting rectangle.py\n"
     ]
    }
   ],
   "source": [
    "%%writefile rectangle.py\n",
    "from module1.polygon import Polygon1\n",
    "class Rectangle1(Polygon1): # Rectagle class inherites polygon class,all public varibale and methods in Polygon class no accessible to Rectangle\n",
    "    def area(self):\n",
    "        return self.get_length() * self.get_width()"
   ]
  },
  {
   "cell_type": "code",
   "execution_count": 50,
   "metadata": {},
   "outputs": [
    {
     "name": "stdout",
     "output_type": "stream",
     "text": [
      "Overwriting triangle.py\n"
     ]
    }
   ],
   "source": [
    "%%writefile triangle.py\n",
    "from module1.polygon import Polygon1\n",
    "class Triangle1(Polygon1): # Triangle class inherites polygon class,all public varibale and methods in Polygon class no accessible to Triangle\n",
    "    def area(self):\n",
    "        return self.get_length() * self.get_width() / 2"
   ]
  },
  {
   "cell_type": "code",
   "execution_count": 52,
   "metadata": {},
   "outputs": [
    {
     "name": "stdout",
     "output_type": "stream",
     "text": [
      "1200\n"
     ]
    }
   ],
   "source": [
    "from rectangle import Rectangle1\n",
    "rect1 = Rectangle1()\n",
    "rect1.set_values(30,40)\n",
    "print(rect1.area())"
   ]
  },
  {
   "cell_type": "markdown",
   "metadata": {},
   "source": [
    "#### Multiple Inheritance"
   ]
  },
  {
   "cell_type": "markdown",
   "metadata": {},
   "source": [
    "Define a new class called Shape and which is haivng IS A relationship with Rectangle and Triangle"
   ]
  },
  {
   "cell_type": "code",
   "execution_count": 83,
   "metadata": {},
   "outputs": [],
   "source": [
    "class Shape:\n",
    "    __color = None\n",
    "    def set_color(self,color):\n",
    "        self.__color = color\n",
    "    def get_color(self):\n",
    "        return self.__color"
   ]
  },
  {
   "cell_type": "code",
   "execution_count": 84,
   "metadata": {},
   "outputs": [],
   "source": [
    "class Polygon:\n",
    "    __length = None\n",
    "    __width = None\n",
    "    \n",
    "    def set_values(self,length,width):\n",
    "        self.__length = length\n",
    "        self.__width = width\n",
    "        \n",
    "    def get_length(self):\n",
    "        return self.__length\n",
    "        \n",
    "    def get_width(self):\n",
    "        return self.__width"
   ]
  },
  {
   "cell_type": "code",
   "execution_count": 86,
   "metadata": {},
   "outputs": [
    {
     "name": "stdout",
     "output_type": "stream",
     "text": [
      "600\n",
      "Green\n"
     ]
    }
   ],
   "source": [
    "class Rectangle(Polygon,Shape): # multiple inheritance\n",
    "    def area(self):\n",
    "        return self.get_length() * self.get_width()\n",
    "    \n",
    "rect = Rectangle()\n",
    "rect.set_values(20,30)\n",
    "print(rect.area())\n",
    "rect.set_color('Green')\n",
    "print(rect.get_color())"
   ]
  },
  {
   "cell_type": "markdown",
   "metadata": {},
   "source": [
    "### Super() - method that return super class reference"
   ]
  },
  {
   "cell_type": "code",
   "execution_count": 87,
   "metadata": {},
   "outputs": [],
   "source": [
    "class Parent1:\n",
    "    def __init__(self):\n",
    "        print(\"Inside Parent __init__ method\")\n",
    "        \n",
    "class Child(Parent1):\n",
    "    def __init__(self):\n",
    "        print(\"Inside child __init__ method\")"
   ]
  },
  {
   "cell_type": "code",
   "execution_count": 88,
   "metadata": {},
   "outputs": [
    {
     "name": "stdout",
     "output_type": "stream",
     "text": [
      "Inside child __init__ method\n"
     ]
    }
   ],
   "source": [
    "child = Child()"
   ]
  },
  {
   "cell_type": "markdown",
   "metadata": {},
   "source": [
    "Above result shows that creating instance of child will only call consturctor of parent class\n",
    "<br>In order to call parent constuctor , we need to refer using super() method"
   ]
  },
  {
   "cell_type": "code",
   "execution_count": 89,
   "metadata": {},
   "outputs": [],
   "source": [
    "class Parent1:\n",
    "    def __init__(self):\n",
    "        print(\"Inside Parent __init__ method\")\n",
    "        \n",
    "class Child(Parent1):\n",
    "    def __init__(self):\n",
    "        print(\"Inside child __init__ method\")\n",
    "        super().__init__()"
   ]
  },
  {
   "cell_type": "code",
   "execution_count": 90,
   "metadata": {},
   "outputs": [
    {
     "name": "stdout",
     "output_type": "stream",
     "text": [
      "Inside child __init__ method\n",
      "Inside Parent __init__ method\n"
     ]
    }
   ],
   "source": [
    "child = Child()"
   ]
  },
  {
   "cell_type": "code",
   "execution_count": 97,
   "metadata": {},
   "outputs": [],
   "source": [
    "## multiple inheritance case\n",
    "class Parent1:\n",
    "    def __init__(self):\n",
    "        print(\"Inside Parent1 __init__ method\")\n",
    "        \n",
    "class Parent2:\n",
    "    def __init__(self):\n",
    "        print(\"Inside Parent2 __init__ method\")\n",
    "        \n",
    "class Child(Parent1,Parent2):\n",
    "    def __init__(self):\n",
    "        print(\"Inside child __init__ method\")\n",
    "        super().__init__()"
   ]
  },
  {
   "cell_type": "code",
   "execution_count": 98,
   "metadata": {},
   "outputs": [
    {
     "name": "stdout",
     "output_type": "stream",
     "text": [
      "Inside child __init__ method\n",
      "Inside Parent1 __init__ method\n"
     ]
    }
   ],
   "source": [
    "child = Child()"
   ]
  },
  {
   "cell_type": "markdown",
   "metadata": {},
   "source": [
    "This shows super() gives reference to only first inherited parent\n",
    "<br> In order to refer other parent we need to use class name with init method"
   ]
  },
  {
   "cell_type": "code",
   "execution_count": 102,
   "metadata": {},
   "outputs": [],
   "source": [
    "## multiple inheritance case\n",
    "class Parent1:\n",
    "    def __init__(self):\n",
    "        print(\"Inside Parent1 __init__ method\")\n",
    "        \n",
    "class Parent2:\n",
    "    def __init__(self):\n",
    "        print(\"Inside Parent2 __init__ method\")\n",
    "        \n",
    "class Child(Parent1,Parent2):\n",
    "    def __init__(self):\n",
    "        print(\"Inside child __init__ method\")\n",
    "        super().__init__()\n",
    "        Parent2.__init__(self)"
   ]
  },
  {
   "cell_type": "code",
   "execution_count": 107,
   "metadata": {},
   "outputs": [
    {
     "name": "stdout",
     "output_type": "stream",
     "text": [
      "Inside child __init__ method\n",
      "Inside Parent1 __init__ method\n",
      "Inside Parent2 __init__ method\n"
     ]
    }
   ],
   "source": [
    "child = Child()"
   ]
  },
  {
   "cell_type": "code",
   "execution_count": 105,
   "metadata": {},
   "outputs": [],
   "source": [
    "#method resolution order __mro__"
   ]
  },
  {
   "cell_type": "code",
   "execution_count": 109,
   "metadata": {},
   "outputs": [
    {
     "name": "stdout",
     "output_type": "stream",
     "text": [
      "Inside child __init__ method\n",
      "Inside Parent1 __init__ method\n",
      "Inside Parent2 __init__ method\n",
      "(<class '__main__.Child'>, <class '__main__.Parent1'>, <class '__main__.Parent2'>, <class 'object'>)\n"
     ]
    }
   ],
   "source": [
    "child = Child()\n",
    "print(Child.__mro__)"
   ]
  },
  {
   "cell_type": "markdown",
   "metadata": {},
   "source": [
    "### Composition -- IS PART OF relationship"
   ]
  },
  {
   "cell_type": "code",
   "execution_count": 111,
   "metadata": {},
   "outputs": [],
   "source": [
    "class Salary:\n",
    "    def __init__(self,salary,bonus):\n",
    "        self.__salary = salary\n",
    "        self.__bonus = bonus\n",
    "        \n",
    "    def annual_salary(self):\n",
    "        return self.__salary * 12 + self.__bonus\n",
    "    \n",
    "class Employee:\n",
    "    def __init__(self,name,age,salary,bonus):\n",
    "        self.__name = name\n",
    "        self.__age = age\n",
    "        self.__salary = Salary(salary,bonus) # here Salary object is part of Employee and cannot implement inherintance\n",
    "                                            # since there is no IS A relationship between Employee and salary\n",
    "    \n",
    "    def annual_salary(self):\n",
    "        return self.__salary.annual_salary()"
   ]
  },
  {
   "cell_type": "code",
   "execution_count": 112,
   "metadata": {},
   "outputs": [
    {
     "name": "stdout",
     "output_type": "stream",
     "text": [
      "125000\n"
     ]
    }
   ],
   "source": [
    "emp = Employee('ram',32,10000,5000)\n",
    "print(emp.annual_salary())"
   ]
  },
  {
   "cell_type": "markdown",
   "metadata": {},
   "source": [
    "In Composition when  , employee object is destroyed , salary object is also destroyed."
   ]
  },
  {
   "cell_type": "markdown",
   "metadata": {},
   "source": [
    "### Aggregation - HAS A relationship\n",
    "ex : Employee has a salary"
   ]
  },
  {
   "cell_type": "code",
   "execution_count": 115,
   "metadata": {},
   "outputs": [],
   "source": [
    "class Salary:\n",
    "    def __init__(self,salary,bonus):\n",
    "        self.__salary = salary\n",
    "        self.__bonus = bonus\n",
    "        \n",
    "    def annual_salary(self):\n",
    "        return self.__salary * 12 + self.__bonus\n",
    "    \n",
    "class Employee:\n",
    "    def __init__(self,name,age,salary):\n",
    "        self.__name = name\n",
    "        self.__age = age\n",
    "        self.__salary = salary # Employee has a salary relationship here..Salary object not created part of employee class\n",
    "    \n",
    "    def annual_salary(self):\n",
    "        return self.__salary.annual_salary()"
   ]
  },
  {
   "cell_type": "code",
   "execution_count": 116,
   "metadata": {},
   "outputs": [
    {
     "name": "stdout",
     "output_type": "stream",
     "text": [
      "17000\n"
     ]
    }
   ],
   "source": [
    "salary = Salary(1000,5000)\n",
    "emp = Employee('ram',32,salary)\n",
    "print(emp.annual_salary())"
   ]
  },
  {
   "cell_type": "markdown",
   "metadata": {},
   "source": [
    "<table>\n",
    "<tr><th>COMPOSITION</th><th>AGGREGATION</th></th>\n",
    "<tr><td>Relationship - PART OF</td><td>Relationship - HAS A</td></th>\n",
    "<tr><td>Delete Object will delete Other object</td><td>Delete Object will not delete Other object</td></th>\n",
    "<tr><td>Oject dependency is uni directional</td><td>Objects are inter dependent</td></th>\n",
    "</table>"
   ]
  },
  {
   "cell_type": "markdown",
   "metadata": {},
   "source": [
    "### Abstract Class - its a blue print for sub class\n",
    "Features:\n",
    "<br>   1. Abstract Class cannot be intiantiated\n",
    " <br>   2. All methos in abstract class has to be defined in sub class"
   ]
  },
  {
   "cell_type": "code",
   "execution_count": 132,
   "metadata": {},
   "outputs": [],
   "source": [
    "from abc import ABC,abstractmethod\n",
    "class Shape(ABC):\n",
    "    @abstractmethod\n",
    "    def area(self): pass\n",
    "    @abstractmethod\n",
    "    def perimeter(self): pass\n",
    "        \n",
    "class Square(Shape):\n",
    "    def __init__(self,side):\n",
    "        self.__side = side"
   ]
  },
  {
   "cell_type": "code",
   "execution_count": 133,
   "metadata": {},
   "outputs": [
    {
     "ename": "TypeError",
     "evalue": "Can't instantiate abstract class Shape with abstract methods area, perimeter",
     "output_type": "error",
     "traceback": [
      "\u001b[1;31m---------------------------------------------------------------------------\u001b[0m",
      "\u001b[1;31mTypeError\u001b[0m                                 Traceback (most recent call last)",
      "\u001b[1;32m<ipython-input-133-935910247ce1>\u001b[0m in \u001b[0;36m<module>\u001b[1;34m\u001b[0m\n\u001b[1;32m----> 1\u001b[1;33m \u001b[0mshape\u001b[0m \u001b[1;33m=\u001b[0m \u001b[0mShape\u001b[0m\u001b[1;33m(\u001b[0m\u001b[1;33m)\u001b[0m\u001b[1;33m\u001b[0m\u001b[1;33m\u001b[0m\u001b[0m\n\u001b[0m",
      "\u001b[1;31mTypeError\u001b[0m: Can't instantiate abstract class Shape with abstract methods area, perimeter"
     ]
    }
   ],
   "source": [
    "shape = Shape()"
   ]
  },
  {
   "cell_type": "code",
   "execution_count": 134,
   "metadata": {},
   "outputs": [
    {
     "ename": "TypeError",
     "evalue": "Can't instantiate abstract class Square with abstract methods area, perimeter",
     "output_type": "error",
     "traceback": [
      "\u001b[1;31m---------------------------------------------------------------------------\u001b[0m",
      "\u001b[1;31mTypeError\u001b[0m                                 Traceback (most recent call last)",
      "\u001b[1;32m<ipython-input-134-d61bc49708f0>\u001b[0m in \u001b[0;36m<module>\u001b[1;34m\u001b[0m\n\u001b[1;32m----> 1\u001b[1;33m \u001b[0msquare\u001b[0m \u001b[1;33m=\u001b[0m \u001b[0mSquare\u001b[0m\u001b[1;33m(\u001b[0m\u001b[1;36m5\u001b[0m\u001b[1;33m)\u001b[0m\u001b[1;33m\u001b[0m\u001b[1;33m\u001b[0m\u001b[0m\n\u001b[0m",
      "\u001b[1;31mTypeError\u001b[0m: Can't instantiate abstract class Square with abstract methods area, perimeter"
     ]
    }
   ],
   "source": [
    "square = Square(5)"
   ]
  },
  {
   "cell_type": "code",
   "execution_count": 135,
   "metadata": {},
   "outputs": [],
   "source": [
    "from abc import ABC,abstractmethod\n",
    "class Shape(ABC):\n",
    "    @abstractmethod\n",
    "    def area(self): pass\n",
    "    @abstractmethod\n",
    "    def perimeter(self): pass\n",
    "        \n",
    "class Square(Shape):\n",
    "    def __init__(self,side):\n",
    "        self.__side = side\n",
    "    \n",
    "    def area(self):\n",
    "        return self.__side **2\n",
    "        \n",
    "    def perimeter(self):\n",
    "        return self.__side * 4"
   ]
  },
  {
   "cell_type": "code",
   "execution_count": 136,
   "metadata": {},
   "outputs": [],
   "source": [
    "square = Square(5)"
   ]
  },
  {
   "cell_type": "markdown",
   "metadata": {},
   "source": [
    "### Operator Overloading"
   ]
  },
  {
   "cell_type": "code",
   "execution_count": 137,
   "metadata": {},
   "outputs": [],
   "source": [
    "class Circle:\n",
    "    def __init__(self,radius):\n",
    "        self.__radius = radius\n",
    "        \n",
    "    def get_radius(self):\n",
    "        return self.__radius;\n",
    "    \n",
    "    def set_radius(self,radius):\n",
    "        self.__radius = radius"
   ]
  },
  {
   "cell_type": "code",
   "execution_count": 138,
   "metadata": {},
   "outputs": [],
   "source": [
    "c1 = Circle(10)\n",
    "c2 = Circle(20)"
   ]
  },
  {
   "cell_type": "code",
   "execution_count": 139,
   "metadata": {},
   "outputs": [
    {
     "ename": "TypeError",
     "evalue": "unsupported operand type(s) for +: 'Circle' and 'Circle'",
     "output_type": "error",
     "traceback": [
      "\u001b[1;31m---------------------------------------------------------------------------\u001b[0m",
      "\u001b[1;31mTypeError\u001b[0m                                 Traceback (most recent call last)",
      "\u001b[1;32m<ipython-input-139-61818d23e61f>\u001b[0m in \u001b[0;36m<module>\u001b[1;34m\u001b[0m\n\u001b[1;32m----> 1\u001b[1;33m \u001b[0mc1\u001b[0m \u001b[1;33m+\u001b[0m \u001b[0mc2\u001b[0m\u001b[1;33m\u001b[0m\u001b[1;33m\u001b[0m\u001b[0m\n\u001b[0m",
      "\u001b[1;31mTypeError\u001b[0m: unsupported operand type(s) for +: 'Circle' and 'Circle'"
     ]
    }
   ],
   "source": [
    "c1 + c2"
   ]
  },
  {
   "cell_type": "markdown",
   "metadata": {},
   "source": [
    "#### Python class module has buildin methods to override operators and other behavious"
   ]
  },
  {
   "cell_type": "markdown",
   "metadata": {},
   "source": [
    "#### Overloading Operators"
   ]
  },
  {
   "cell_type": "markdown",
   "metadata": {},
   "source": [
    "<table border=\"0\">\n",
    "\t\t<tbody>\n",
    "\t\t\t<tr>\n",
    "\t\t\t\t<th>Operator</th>\n",
    "\t\t\t\t<th>Expression</th>\n",
    "\t\t\t\t<th>Internally</th>\n",
    "\t\t\t</tr>\n",
    "\t\t\t<tr>\n",
    "\t\t\t\t<td>Addition</td>\n",
    "\t\t\t\t<td><code>p1 + p2</code></td>\n",
    "\t\t\t\t<td><code>p1.__add__(p2)</code></td>\n",
    "\t\t\t</tr>\n",
    "\t\t\t<tr>\n",
    "\t\t\t\t<td>Subtraction</td>\n",
    "\t\t\t\t<td><code>p1 - p2</code></td>\n",
    "\t\t\t\t<td><code>p1.__sub__(p2)</code></td>\n",
    "\t\t\t</tr>\n",
    "\t\t\t<tr>\n",
    "\t\t\t\t<td>Multiplication</td>\n",
    "\t\t\t\t<td><code>p1 * p2</code></td>\n",
    "\t\t\t\t<td><code>p1.__mul__(p2)</code></td>\n",
    "\t\t\t</tr>\n",
    "\t\t\t<tr>\n",
    "\t\t\t\t<td>Power</td>\n",
    "\t\t\t\t<td><code>p1 ** p2</code></td>\n",
    "\t\t\t\t<td><code>p1.__pow__(p2)</code></td>\n",
    "\t\t\t</tr>\n",
    "\t\t\t<tr>\n",
    "\t\t\t\t<td>Division</td>\n",
    "\t\t\t\t<td><code>p1 / p2</code></td>\n",
    "\t\t\t\t<td><code>p1.__truediv__(p2)</code></td>\n",
    "\t\t\t</tr>\n",
    "\t\t\t<tr>\n",
    "\t\t\t\t<td>Floor Division</td>\n",
    "\t\t\t\t<td><code>p1 // p2</code></td>\n",
    "\t\t\t\t<td><code>p1.__floordiv__(p2)</code></td>\n",
    "\t\t\t</tr>\n",
    "\t\t\t<tr>\n",
    "\t\t\t\t<td>Remainder (modulo)</td>\n",
    "\t\t\t\t<td><code>p1 % p2</code></td>\n",
    "\t\t\t\t<td><code>p1.__mod__(p2)</code></td>\n",
    "\t\t\t</tr>\n",
    "\t\t\t<tr>\n",
    "\t\t\t\t<td>Bitwise Left Shift</td>\n",
    "\t\t\t\t<td><code>p1 &lt;&lt; p2</code></td>\n",
    "\t\t\t\t<td><code>p1.__lshift__(p2)</code></td>\n",
    "\t\t\t</tr>\n",
    "\t\t\t<tr>\n",
    "\t\t\t\t<td>Bitwise Right Shift</td>\n",
    "\t\t\t\t<td><code>p1 &gt;&gt; p2</code></td>\n",
    "\t\t\t\t<td><code>p1.__rshift__(p2)</code></td>\n",
    "\t\t\t</tr>\n",
    "\t\t\t<tr>\n",
    "\t\t\t\t<td>Bitwise AND</td>\n",
    "\t\t\t\t<td><code>p1 &amp; p2</code></td>\n",
    "\t\t\t\t<td><code>p1.__and__(p2)</code></td>\n",
    "\t\t\t</tr>\n",
    "\t\t\t<tr>\n",
    "\t\t\t\t<td>Bitwise OR</td>\n",
    "\t\t\t\t<td><code>p1 | p2</code></td>\n",
    "\t\t\t\t<td><code>p1.__or__(p2)</code></td>\n",
    "\t\t\t</tr>\n",
    "\t\t\t<tr>\n",
    "\t\t\t\t<td>Bitwise XOR</td>\n",
    "\t\t\t\t<td><code>p1 ^ p2</code></td>\n",
    "\t\t\t\t<td><code>p1.__xor__(p2)</code></td>\n",
    "\t\t\t</tr>\n",
    "\t\t\t<tr>\n",
    "\t\t\t\t<td>Bitwise NOT</td>\n",
    "\t\t\t\t<td><code>~p1</code></td>\n",
    "\t\t\t\t<td><code>p1.__invert__()</code></td>\n",
    "\t\t\t</tr>\n",
    "\t\t</tbody>\n",
    "\t</table>"
   ]
  },
  {
   "cell_type": "markdown",
   "metadata": {},
   "source": [
    "#### Overloading Comparison Operators"
   ]
  },
  {
   "cell_type": "markdown",
   "metadata": {},
   "source": [
    "<table border=\"0\">\n",
    "\t\t<tbody>\n",
    "\t\t\t<tr>\n",
    "\t\t\t\t<th>Operator</th>\n",
    "\t\t\t\t<th>Expression</th>\n",
    "\t\t\t\t<th>Internally</th>\n",
    "\t\t\t</tr>\n",
    "\t\t\t<tr>\n",
    "\t\t\t\t<td>Less than</td>\n",
    "\t\t\t\t<td><code>p1 &lt; p2</code></td>\n",
    "\t\t\t\t<td><code>p1.__lt__(p2)</code></td>\n",
    "\t\t\t</tr>\n",
    "\t\t\t<tr>\n",
    "\t\t\t\t<td>Less than or equal to</td>\n",
    "\t\t\t\t<td><code>p1 &lt;= p2</code></td>\n",
    "\t\t\t\t<td><code>p1.__le__(p2)</code></td>\n",
    "\t\t\t</tr>\n",
    "\t\t\t<tr>\n",
    "\t\t\t\t<td>Equal to</td>\n",
    "\t\t\t\t<td><code>p1 == p2</code></td>\n",
    "\t\t\t\t<td><code>p1.__eq__(p2)</code></td>\n",
    "\t\t\t</tr>\n",
    "\t\t\t<tr>\n",
    "\t\t\t\t<td>Not equal to</td>\n",
    "\t\t\t\t<td><code>p1 != p2</code></td>\n",
    "\t\t\t\t<td><code>p1.__ne__(p2)</code></td>\n",
    "\t\t\t</tr>\n",
    "\t\t\t<tr>\n",
    "\t\t\t\t<td>Greater than</td>\n",
    "\t\t\t\t<td><code>p1 &gt; p2</code></td>\n",
    "\t\t\t\t<td><code>p1.__gt__(p2)</code></td>\n",
    "\t\t\t</tr>\n",
    "\t\t\t<tr>\n",
    "\t\t\t\t<td>Greater than or equal to</td>\n",
    "\t\t\t\t<td><code>p1 &gt;= p2</code></td>\n",
    "\t\t\t\t<td><code>p1.__ge__(p2)</code></td>\n",
    "\t\t\t</tr>\n",
    "\t\t</tbody>\n",
    "\t</table>"
   ]
  },
  {
   "cell_type": "markdown",
   "metadata": {},
   "source": [
    "#### Other Methods"
   ]
  },
  {
   "cell_type": "code",
   "execution_count": 142,
   "metadata": {},
   "outputs": [
    {
     "name": "stdout",
     "output_type": "stream",
     "text": [
      "_Circle__radius\n",
      "__class__\n",
      "__delattr__\n",
      "__dict__\n",
      "__dir__\n",
      "__doc__\n",
      "__eq__\n",
      "__format__\n",
      "__ge__\n",
      "__getattribute__\n",
      "__gt__\n",
      "__hash__\n",
      "__init__\n",
      "__init_subclass__\n",
      "__le__\n",
      "__lt__\n",
      "__module__\n",
      "__ne__\n",
      "__new__\n",
      "__reduce__\n",
      "__reduce_ex__\n",
      "__repr__\n",
      "__setattr__\n",
      "__sizeof__\n",
      "__str__\n",
      "__subclasshook__\n",
      "__weakref__\n",
      "get_radius\n",
      "set_radius\n"
     ]
    }
   ],
   "source": [
    "for md in dir(c1):\n",
    "    print(md)"
   ]
  },
  {
   "cell_type": "code",
   "execution_count": 143,
   "metadata": {},
   "outputs": [],
   "source": [
    "class Circle:\n",
    "    def __init__(self,radius):\n",
    "        self.__radius = radius\n",
    "        \n",
    "    def get_radius(self):\n",
    "        return self.__radius;\n",
    "    \n",
    "    def set_radius(self,radius):\n",
    "        self.__radius = radius\n",
    "        \n",
    "    def __add__(self,other):\n",
    "        return Circle(self.get_radius() + other.get_radius())"
   ]
  },
  {
   "cell_type": "code",
   "execution_count": 144,
   "metadata": {},
   "outputs": [],
   "source": [
    "c1 = Circle(10)\n",
    "c2 = Circle(20)\n",
    "c3 = c1 + c2"
   ]
  },
  {
   "cell_type": "code",
   "execution_count": 145,
   "metadata": {},
   "outputs": [
    {
     "name": "stdout",
     "output_type": "stream",
     "text": [
      "30\n"
     ]
    }
   ],
   "source": [
    "print(c3.get_radius())"
   ]
  },
  {
   "cell_type": "code",
   "execution_count": null,
   "metadata": {},
   "outputs": [],
   "source": []
  },
  {
   "cell_type": "code",
   "execution_count": null,
   "metadata": {},
   "outputs": [],
   "source": []
  },
  {
   "cell_type": "code",
   "execution_count": null,
   "metadata": {},
   "outputs": [],
   "source": []
  },
  {
   "cell_type": "code",
   "execution_count": null,
   "metadata": {},
   "outputs": [],
   "source": []
  }
 ],
 "metadata": {
  "kernelspec": {
   "display_name": "Python 3",
   "language": "python",
   "name": "python3"
  },
  "language_info": {
   "codemirror_mode": {
    "name": "ipython",
    "version": 3
   },
   "file_extension": ".py",
   "mimetype": "text/x-python",
   "name": "python",
   "nbconvert_exporter": "python",
   "pygments_lexer": "ipython3",
   "version": "3.8.5"
  }
 },
 "nbformat": 4,
 "nbformat_minor": 4
}
