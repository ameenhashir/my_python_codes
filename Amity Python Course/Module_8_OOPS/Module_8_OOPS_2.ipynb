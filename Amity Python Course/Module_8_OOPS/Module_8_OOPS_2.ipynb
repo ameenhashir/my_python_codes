{
 "cells": [
  {
   "cell_type": "markdown",
   "metadata": {},
   "source": [
    "#  MODULE 8:  OOPS 2: Inheritance\n",
    "\n"
   ]
  },
  {
   "cell_type": "markdown",
   "metadata": {},
   "source": [
    "## A: Simple inheritance\n"
   ]
  },
  {
   "cell_type": "markdown",
   "metadata": {},
   "source": [
    "### Example:\n",
    "\n",
    "Consider the old bird class "
   ]
  },
  {
   "cell_type": "code",
   "execution_count": 1,
   "metadata": {},
   "outputs": [],
   "source": [
    "# Here is our old bird class\n",
    "class bird:\n",
    "    \n",
    "    species = None\n",
    "    name = None\n",
    "    age = None\n",
    "    \n",
    "    def __init__(self, species, name, age):\n",
    "        self.species = species\n",
    "        self.name = name\n",
    "        self.age = age\n",
    "        \n",
    "    def describe(self):\n",
    "        return \"{} is a {} of age {}\".format(self.name, self.species, self.age)\n",
    "    \n",
    "    def sing(self, song):\n",
    "        return \"{} sings '{}'\".format(self.name, song)"
   ]
  },
  {
   "cell_type": "markdown",
   "metadata": {},
   "source": [
    "###  What if we want to add an attribute \"can_speak\", but it is relevant only to parrots? How would you implement it ?"
   ]
  },
  {
   "cell_type": "markdown",
   "metadata": {},
   "source": [
    "#### Inheritance to rescue!"
   ]
  },
  {
   "cell_type": "code",
   "execution_count": 2,
   "metadata": {},
   "outputs": [],
   "source": [
    "class parrot(bird):\n",
    "    canspeak = None\n",
    "    \n",
    "    def __init__(self, name, age, canspeak):\n",
    "        super().__init__('parrot', name, age)\n",
    "        self.canspeak = canspeak\n",
    "        \n",
    "    def get_canspeak(self):\n",
    "        if self.canspeak:\n",
    "            return \"{} can speak!\".format(self.name)\n",
    "        else:\n",
    "            return \"Sorry, but {} can not speak.\".format(self.name)"
   ]
  },
  {
   "cell_type": "markdown",
   "metadata": {},
   "source": [
    "### what is super?\n",
    "\n",
    "The super() builtin returns a proxy object that allows you to refer parent class by 'super'."
   ]
  },
  {
   "cell_type": "markdown",
   "metadata": {},
   "source": [
    "### Create Instances of parrot class  and test speak ability"
   ]
  },
  {
   "cell_type": "code",
   "execution_count": 11,
   "metadata": {
    "scrolled": true
   },
   "outputs": [
    {
     "name": "stdout",
     "output_type": "stream",
     "text": [
      "p1 is a parrot of age 2\n",
      "p2 is a parrot of age 2\n",
      "p1 sings 'Hotel California!'\n",
      "p2 sings 'Hotel California!'\n",
      "p1 can speak!\n",
      "Sorry, but p2 can not speak.\n"
     ]
    }
   ],
   "source": [
    "\n",
    "p1 = parrot('p1', 2, True) \n",
    "p2 = parrot('p2', 2, False) \n",
    "\n",
    "print(p1.describe())\n",
    "print(p2.describe())\n",
    "\n",
    "print(p1.sing(\"Hotel California!\"))\n",
    "print(p2.sing(\"Hotel California!\"))\n",
    "\n",
    "print(p1.get_canspeak())\n",
    "print(p2.get_canspeak())"
   ]
  },
  {
   "cell_type": "markdown",
   "metadata": {},
   "source": [
    "## B: Multiple Inheritance"
   ]
  },
  {
   "cell_type": "markdown",
   "metadata": {},
   "source": [
    "### Consider a class that represents characters in harry potter movie."
   ]
  },
  {
   "cell_type": "code",
   "execution_count": 5,
   "metadata": {},
   "outputs": [],
   "source": [
    "class Hcharacter:\n",
    "    name = None\n",
    "    book_first_appeared = None\n",
    "    \n",
    "    def __init__(self, name, book_first_appeared):\n",
    "        self.name = name\n",
    "        self.book_first_appeared = book_first_appeared\n",
    "        \n",
    "    def get_book_first_appeared(self):\n",
    "        return \"'{}' first appeared in book {}!\".format(self.name, self.book_first_appeared)"
   ]
  },
  {
   "cell_type": "markdown",
   "metadata": {},
   "source": [
    "### Create Prof Snape!"
   ]
  },
  {
   "cell_type": "code",
   "execution_count": 12,
   "metadata": {},
   "outputs": [
    {
     "data": {
      "text/plain": [
       "\"'Prof. Snape' first appeared in book 1!\""
      ]
     },
     "execution_count": 12,
     "metadata": {},
     "output_type": "execute_result"
    }
   ],
   "source": [
    "c1 = Hcharacter(\"Prof. Snape\", 1)\n",
    "\n",
    "c1.get_book_first_appeared()"
   ]
  },
  {
   "cell_type": "markdown",
   "metadata": {},
   "source": [
    "## How do we represent a Harry potter character which is also a bird?"
   ]
  },
  {
   "cell_type": "markdown",
   "metadata": {},
   "source": [
    "### Multiple inheritance to the rescue!"
   ]
  },
  {
   "cell_type": "code",
   "execution_count": 13,
   "metadata": {},
   "outputs": [],
   "source": [
    "class headwig(bird, Hcharacter):\n",
    "    \n",
    "    def __init__(self, name, book_first_appeared, species, age):\n",
    "        bird.__init__(self, species, name, age)\n",
    "        Hcharacter.__init__(self, name, book_first_appeared)"
   ]
  },
  {
   "cell_type": "code",
   "execution_count": 14,
   "metadata": {},
   "outputs": [
    {
     "name": "stdout",
     "output_type": "stream",
     "text": [
      "headie is a crossbreed of age 3\n",
      "'headie' first appeared in book 2!\n"
     ]
    }
   ],
   "source": [
    "h1 = headwig('headie', 2, 'crossbreed', '3')\n",
    "\n",
    "print(h1.describe())\n",
    "print(h1.get_book_first_appeared())"
   ]
  },
  {
   "cell_type": "markdown",
   "metadata": {},
   "source": [
    "### End of Module 8 - OOPS 2 Inheritance"
   ]
  }
 ],
 "metadata": {
  "kernelspec": {
   "display_name": "Python 3",
   "language": "python",
   "name": "python3"
  },
  "language_info": {
   "codemirror_mode": {
    "name": "ipython",
    "version": 3
   },
   "file_extension": ".py",
   "mimetype": "text/x-python",
   "name": "python",
   "nbconvert_exporter": "python",
   "pygments_lexer": "ipython3",
   "version": "3.6.7"
  }
 },
 "nbformat": 4,
 "nbformat_minor": 2
}
