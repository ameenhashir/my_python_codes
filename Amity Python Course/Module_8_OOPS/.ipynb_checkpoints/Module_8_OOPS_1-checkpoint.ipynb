{
 "cells": [
  {
   "cell_type": "markdown",
   "metadata": {},
   "source": [
    "#  MODULE 8:  OOPS 1: Basics \n",
    "\n"
   ]
  },
  {
   "cell_type": "markdown",
   "metadata": {},
   "source": [
    "## A:  Class "
   ]
  },
  {
   "cell_type": "markdown",
   "metadata": {},
   "source": [
    "### What is a class?\n",
    "\n",
    "\n",
    "\n",
    "In object-oriented programming, a class is an extensible program-code-template for creating objects, providing initial values for state (member variables) and implementations of behavior (member functions or methods)."
   ]
  },
  {
   "cell_type": "markdown",
   "metadata": {},
   "source": [
    "### Example:\n",
    "\n",
    "Assuming we want to represent this room by a class, what would be some of the attributes and behaviors that we would need to consider?"
   ]
  },
  {
   "cell_type": "markdown",
   "metadata": {},
   "source": [
    "### Example of some attributes  \n",
    "number_of_lights\n",
    "\n",
    "number_of_chairs\n",
    "\n",
    "number_of_screens\n",
    "\n",
    "states_of_lights\n",
    "\n",
    "types_of_empty_bottles\n",
    "\n",
    "number_of_empty_bottles"
   ]
  },
  {
   "cell_type": "markdown",
   "metadata": {},
   "source": [
    "\n",
    "### Example of some behaviors \n",
    "\n",
    "toggle_light()\n",
    "\n",
    "toggle_all_lights()\n",
    "\n",
    "move_chair_in()\n",
    "\n",
    "move_chair_out()\n",
    "\n",
    "turn_on_screen()"
   ]
  },
  {
   "cell_type": "markdown",
   "metadata": {},
   "source": [
    "### Consider a Class that represents a singing bird "
   ]
  },
  {
   "cell_type": "code",
   "execution_count": 15,
   "metadata": {},
   "outputs": [],
   "source": [
    "class bird:\n",
    "    \n",
    "    species = 'parrot'\n",
    "    name = 'Dobby'\n",
    "    age = 2\n",
    "    \n",
    "    def sing(self, song):\n",
    "        return \"{} sings '{}'\".format(self.name, song)"
   ]
  },
  {
   "cell_type": "markdown",
   "metadata": {},
   "source": [
    "### Make the bird sing Hotel California!"
   ]
  },
  {
   "cell_type": "code",
   "execution_count": 16,
   "metadata": {},
   "outputs": [
    {
     "name": "stdout",
     "output_type": "stream",
     "text": [
      "Dobby sings 'Hotel California'\n"
     ]
    }
   ],
   "source": [
    "# How do we run this code?\n",
    "t = bird()\n",
    "print(t.sing('Hotel California'))"
   ]
  },
  {
   "cell_type": "markdown",
   "metadata": {},
   "source": [
    "## B:  Constructors and Destructors\n"
   ]
  },
  {
   "cell_type": "markdown",
   "metadata": {},
   "source": [
    "### Notes:\n",
    "\n"
   ]
  },
  {
   "cell_type": "markdown",
   "metadata": {},
   "source": [
    "A constructor is a special method of a class or structure in object-oriented programming that initializes an object of that type.It prepares the new object for use, often accepting arguments that the constructor uses to set required member variables"
   ]
  },
  {
   "cell_type": "markdown",
   "metadata": {},
   "source": [
    "In object-oriented programming, a destructor is a method which is automatically invoked when the object is destroyed."
   ]
  },
  {
   "cell_type": "markdown",
   "metadata": {},
   "source": [
    "#### Why do we need to use a destructor?\n",
    "\n",
    "Recovering the heap space allocated during the lifetime of an object.\n",
    "\n",
    "Closing file or database connections. \n",
    "\n",
    "Releasing network resources."
   ]
  },
  {
   "cell_type": "markdown",
   "metadata": {},
   "source": [
    "### Generalize the Bird Class "
   ]
  },
  {
   "cell_type": "code",
   "execution_count": 19,
   "metadata": {
    "scrolled": true
   },
   "outputs": [],
   "source": [
    "class bird:\n",
    "    \n",
    "    species = None\n",
    "    name = None\n",
    "    age = None\n",
    "    \n",
    "    def __init__(self, species, name, age):\n",
    "        self.species = species\n",
    "        self.name = name\n",
    "        self.age = age\n",
    "        \n",
    "    def describe(self):\n",
    "        return \"{} is a {} of age {}\".format(self.name, self.species, self.age)\n",
    "    \n",
    "    def sing(self, song):\n",
    "        return \"{} sings '{}'\".format(self.name, song)"
   ]
  },
  {
   "cell_type": "code",
   "execution_count": 21,
   "metadata": {},
   "outputs": [],
   "source": [
    "# Create Instances of the bird class \n",
    "b1 = bird('Parrot', 'Dobby', 4)\n",
    "b2 = bird('Owl', 'Hedwig', 5)\n",
    "b3 = bird('Augurey', 'Delphini', 3)"
   ]
  },
  {
   "cell_type": "code",
   "execution_count": 22,
   "metadata": {},
   "outputs": [
    {
     "name": "stdout",
     "output_type": "stream",
     "text": [
      "Dobby is a Parrot of age 4\n",
      "Dobby sings 'Hotel California'\n"
     ]
    }
   ],
   "source": [
    "\n",
    "print(b1.describe())\n",
    "print(b1.sing('Hotel California'))\n"
   ]
  },
  {
   "cell_type": "code",
   "execution_count": 23,
   "metadata": {},
   "outputs": [
    {
     "name": "stdout",
     "output_type": "stream",
     "text": [
      "Hedwig is a Owl of age 5\n",
      "Delphini is a Augurey of age 3\n"
     ]
    }
   ],
   "source": [
    "print(b2.describe())\n",
    "print(b3.describe())"
   ]
  },
  {
   "cell_type": "code",
   "execution_count": 24,
   "metadata": {},
   "outputs": [
    {
     "name": "stdout",
     "output_type": "stream",
     "text": [
      "Hedwig sings 'I shot the sheriff'\n",
      "Delphini sings 'Lift karade'\n"
     ]
    }
   ],
   "source": [
    "\n",
    "print(b2.sing('I shot the sheriff'))\n",
    "print(b3.sing('Lift karade'))"
   ]
  },
  {
   "cell_type": "markdown",
   "metadata": {},
   "source": [
    "## C: Build a Simple Bank Customer Class "
   ]
  },
  {
   "cell_type": "markdown",
   "metadata": {},
   "source": [
    "### Attribute we need \n",
    "\n",
    "balance\n",
    "\n",
    "customer_name\n",
    "\n",
    "customer_email\n"
   ]
  },
  {
   "cell_type": "markdown",
   "metadata": {},
   "source": [
    "### Behavior we need to support \n",
    "\n",
    "withdraw\n",
    "\n",
    "deposit\n",
    "\n",
    "check_balance\n"
   ]
  },
  {
   "cell_type": "code",
   "execution_count": 28,
   "metadata": {},
   "outputs": [],
   "source": [
    "class Customer(object):\n",
    "    name = None\n",
    "    balance = 0.0\n",
    "    email = None\n",
    "\n",
    "    def __init__(self, name, email, balance=0.0):\n",
    "        \"\"\"Return a Customer object whose name is *name* and starting\n",
    "        balance is *balance*.\"\"\"\n",
    "        self.name = name\n",
    "        self.balance = balance\n",
    "        self.email = email\n",
    "    \n",
    "    def check_balance(self):\n",
    "        return self.balance\n",
    "    \n",
    "        \n",
    "    def describe(self):\n",
    "        return \"'{}' has a balance of {} in their account\".format(self.name, self.balance)\n",
    "\n",
    "\n",
    "    def withdraw(self, amount):\n",
    "        \"\"\"Return the balance remaining after withdrawing *amount*\n",
    "        dollars.\"\"\"\n",
    "        if amount > self.balance:\n",
    "            raise RuntimeError('Amount greater than available balance.')\n",
    "        self.balance -= amount\n",
    "        return self.check_balance()\n",
    "\n",
    "    def deposit(self, amount):\n",
    "        \"\"\"Return the balance remaining after depositing *amount*\n",
    "        dollars.\"\"\"\n",
    "        self.balance += amount\n",
    "        return self.check_balance()"
   ]
  },
  {
   "cell_type": "markdown",
   "metadata": {},
   "source": [
    "### Simulate a Customer deposit and withdrawal"
   ]
  },
  {
   "cell_type": "code",
   "execution_count": 29,
   "metadata": {},
   "outputs": [
    {
     "name": "stdout",
     "output_type": "stream",
     "text": [
      "'Ramesh Kumar' has a balance of 0.0 in their account\n",
      "'Ramesh Kumar' has a balance of 1000.0 in their account\n",
      "'Ramesh Kumar' has a balance of 900.0 in their account\n"
     ]
    }
   ],
   "source": [
    "c = Customer(\"Ramesh Kumar\", \"rkumar@abcd.com\")\n",
    "print(c.describe())\n",
    "\n",
    "c.deposit(1000)\n",
    "print(c.describe())\n",
    "\n",
    "c.withdraw(100)\n",
    "print(c.describe())"
   ]
  },
  {
   "cell_type": "markdown",
   "metadata": {},
   "source": [
    "### Check over limit withdrawal!"
   ]
  },
  {
   "cell_type": "code",
   "execution_count": 30,
   "metadata": {},
   "outputs": [
    {
     "ename": "RuntimeError",
     "evalue": "Amount greater than available balance.",
     "output_type": "error",
     "traceback": [
      "\u001b[1;31m---------------------------------------------------------------------------\u001b[0m",
      "\u001b[1;31mRuntimeError\u001b[0m                              Traceback (most recent call last)",
      "\u001b[1;32m<ipython-input-30-1ff65567c2ed>\u001b[0m in \u001b[0;36m<module>\u001b[1;34m\u001b[0m\n\u001b[1;32m----> 1\u001b[1;33m \u001b[0mc\u001b[0m\u001b[1;33m.\u001b[0m\u001b[0mwithdraw\u001b[0m\u001b[1;33m(\u001b[0m\u001b[1;36m910\u001b[0m\u001b[1;33m)\u001b[0m\u001b[1;33m\u001b[0m\u001b[1;33m\u001b[0m\u001b[0m\n\u001b[0m",
      "\u001b[1;32m<ipython-input-28-46e4223471bd>\u001b[0m in \u001b[0;36mwithdraw\u001b[1;34m(self, amount)\u001b[0m\n\u001b[0;32m     23\u001b[0m         dollars.\"\"\"\n\u001b[0;32m     24\u001b[0m         \u001b[1;32mif\u001b[0m \u001b[0mamount\u001b[0m \u001b[1;33m>\u001b[0m \u001b[0mself\u001b[0m\u001b[1;33m.\u001b[0m\u001b[0mbalance\u001b[0m\u001b[1;33m:\u001b[0m\u001b[1;33m\u001b[0m\u001b[1;33m\u001b[0m\u001b[0m\n\u001b[1;32m---> 25\u001b[1;33m             \u001b[1;32mraise\u001b[0m \u001b[0mRuntimeError\u001b[0m\u001b[1;33m(\u001b[0m\u001b[1;34m'Amount greater than available balance.'\u001b[0m\u001b[1;33m)\u001b[0m\u001b[1;33m\u001b[0m\u001b[1;33m\u001b[0m\u001b[0m\n\u001b[0m\u001b[0;32m     26\u001b[0m         \u001b[0mself\u001b[0m\u001b[1;33m.\u001b[0m\u001b[0mbalance\u001b[0m \u001b[1;33m-=\u001b[0m \u001b[0mamount\u001b[0m\u001b[1;33m\u001b[0m\u001b[1;33m\u001b[0m\u001b[0m\n\u001b[0;32m     27\u001b[0m         \u001b[1;32mreturn\u001b[0m \u001b[0mself\u001b[0m\u001b[1;33m.\u001b[0m\u001b[0mcheck_balance\u001b[0m\u001b[1;33m(\u001b[0m\u001b[1;33m)\u001b[0m\u001b[1;33m\u001b[0m\u001b[1;33m\u001b[0m\u001b[0m\n",
      "\u001b[1;31mRuntimeError\u001b[0m: Amount greater than available balance."
     ]
    }
   ],
   "source": [
    "c.withdraw(910)"
   ]
  },
  {
   "cell_type": "markdown",
   "metadata": {},
   "source": [
    "### End of Module 8 - OOPS 1 Basics"
   ]
  }
 ],
 "metadata": {
  "kernelspec": {
   "display_name": "Python 3",
   "language": "python",
   "name": "python3"
  },
  "language_info": {
   "codemirror_mode": {
    "name": "ipython",
    "version": 3
   },
   "file_extension": ".py",
   "mimetype": "text/x-python",
   "name": "python",
   "nbconvert_exporter": "python",
   "pygments_lexer": "ipython3",
   "version": "3.6.7"
  }
 },
 "nbformat": 4,
 "nbformat_minor": 2
}
