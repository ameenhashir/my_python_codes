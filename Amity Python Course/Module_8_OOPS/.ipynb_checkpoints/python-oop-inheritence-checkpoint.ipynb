{
 "cells": [
  {
   "cell_type": "markdown",
   "metadata": {
    "slideshow": {
     "slide_type": "slide"
    }
   },
   "source": [
    "# Tech Talk - 001 - OOP with Python!"
   ]
  },
  {
   "cell_type": "markdown",
   "metadata": {
    "slideshow": {
     "slide_type": "fragment"
    }
   },
   "source": [
    "<img src=../hogwarts.jpeg />"
   ]
  },
  {
   "cell_type": "markdown",
   "metadata": {
    "slideshow": {
     "slide_type": "slide"
    }
   },
   "source": [
    "# Review last class"
   ]
  },
  {
   "cell_type": "markdown",
   "metadata": {
    "slideshow": {
     "slide_type": "fragment"
    }
   },
   "source": [
    "## What is a Class?"
   ]
  },
  {
   "cell_type": "markdown",
   "metadata": {
    "slideshow": {
     "slide_type": "fragment"
    }
   },
   "source": [
    "## What is an Object?"
   ]
  },
  {
   "cell_type": "markdown",
   "metadata": {
    "slideshow": {
     "slide_type": "fragment"
    }
   },
   "source": [
    "## How are attributes different from behaviours?"
   ]
  },
  {
   "cell_type": "markdown",
   "metadata": {
    "slideshow": {
     "slide_type": "fragment"
    }
   },
   "source": [
    "## What are the techinical names of attributes and bevahiours?"
   ]
  },
  {
   "cell_type": "markdown",
   "metadata": {
    "slideshow": {
     "slide_type": "slide"
    }
   },
   "source": [
    "# Attribute or behaviour?"
   ]
  },
  {
   "cell_type": "markdown",
   "metadata": {
    "slideshow": {
     "slide_type": "fragment"
    }
   },
   "source": [
    "Consider a class that represents a school\n",
    "* Number of students\n",
    "* Taking a class trip\n",
    "* List of courses\n",
    "* List of teacher names\n",
    "* Teaching a course\n",
    "* Monthly Fees\n",
    "* Anuaal Fees\n",
    "* Paying fees"
   ]
  },
  {
   "cell_type": "markdown",
   "metadata": {
    "slideshow": {
     "slide_type": "slide"
    }
   },
   "source": [
    "# More review questions"
   ]
  },
  {
   "cell_type": "markdown",
   "metadata": {
    "slideshow": {
     "slide_type": "fragment"
    }
   },
   "source": [
    "## What is DRY?"
   ]
  },
  {
   "cell_type": "markdown",
   "metadata": {
    "slideshow": {
     "slide_type": "fragment"
    }
   },
   "source": [
    "## What is a constructor ? Why we need it ?"
   ]
  },
  {
   "cell_type": "markdown",
   "metadata": {
    "slideshow": {
     "slide_type": "fragment"
    }
   },
   "source": [
    "## What is a destructor ? Why we need it ?"
   ]
  },
  {
   "cell_type": "markdown",
   "metadata": {
    "slideshow": {
     "slide_type": "fragment"
    }
   },
   "source": [
    "## Can I use a normal method instead of a constructor? why or why not?`"
   ]
  },
  {
   "cell_type": "markdown",
   "metadata": {
    "slideshow": {
     "slide_type": "fragment"
    }
   },
   "source": [
    "## How many instances can a class have?"
   ]
  },
  {
   "cell_type": "markdown",
   "metadata": {
    "slideshow": {
     "slide_type": "fragment"
    }
   },
   "source": [
    "## What is the difference between a method and a function?"
   ]
  },
  {
   "cell_type": "markdown",
   "metadata": {
    "slideshow": {
     "slide_type": "slide"
    }
   },
   "source": [
    "# Assignments - Questions?"
   ]
  },
  {
   "cell_type": "markdown",
   "metadata": {
    "slideshow": {
     "slide_type": "fragment"
    }
   },
   "source": [
    "## Just Remember this is not white belt!"
   ]
  },
  {
   "cell_type": "markdown",
   "metadata": {
    "slideshow": {
     "slide_type": "slide"
    }
   },
   "source": [
    "# Inheritence"
   ]
  },
  {
   "cell_type": "markdown",
   "metadata": {
    "slideshow": {
     "slide_type": "fragment"
    }
   },
   "source": [
    "What is inheritence in real world? "
   ]
  },
  {
   "cell_type": "code",
   "execution_count": 3,
   "metadata": {
    "slideshow": {
     "slide_type": "slide"
    }
   },
   "outputs": [],
   "source": [
    "# Here is our old bird class\n",
    "class bird:\n",
    "    \n",
    "    species = None\n",
    "    name = None\n",
    "    age = None\n",
    "    \n",
    "    def __init__(self, species, name, age):\n",
    "        self.species = species\n",
    "        self.name = name\n",
    "        self.age = age\n",
    "        \n",
    "    def describe(self):\n",
    "        return \"{} is a {} of age {}\".format(self.name, self.species, self.age)\n",
    "    \n",
    "    def sing(self, song):\n",
    "        return \"{} sings '{}'\".format(self.name, song)"
   ]
  },
  {
   "cell_type": "markdown",
   "metadata": {
    "slideshow": {
     "slide_type": "fragment"
    }
   },
   "source": [
    "# What if we want to add an attribute \"can_speak\", but it is relevant only to parrots? How would you implement it ?"
   ]
  },
  {
   "cell_type": "code",
   "execution_count": null,
   "metadata": {
    "slideshow": {
     "slide_type": "fragment"
    }
   },
   "outputs": [],
   "source": [
    "class parrot(bird):"
   ]
  },
  {
   "cell_type": "code",
   "execution_count": 10,
   "metadata": {
    "slideshow": {
     "slide_type": "slide"
    }
   },
   "outputs": [],
   "source": [
    "# Inheritence to rescue\n",
    "\n",
    "class parrot(bird):\n",
    "    canspeak = None\n",
    "    \n",
    "    def __init__(self, name, age, canspeak):\n",
    "        super().__init__('parrot', name, age)\n",
    "        self.canspeak = canspeak\n",
    "        \n",
    "    def get_canspeak(self):\n",
    "        if self.canspeak:\n",
    "            return \"{} can speak!\".format(self.name)\n",
    "        else:\n",
    "            return \"Sorry, but {} can not speak.\".format(self.name)"
   ]
  },
  {
   "cell_type": "markdown",
   "metadata": {
    "slideshow": {
     "slide_type": "fragment"
    }
   },
   "source": [
    "## What is super() ?"
   ]
  },
  {
   "cell_type": "code",
   "execution_count": 11,
   "metadata": {
    "slideshow": {
     "slide_type": "slide"
    }
   },
   "outputs": [
    {
     "name": "stdout",
     "output_type": "stream",
     "text": [
      "p1 is a parrot of age 2\n",
      "p2 is a parrot of age 2\n",
      "p1 sings 'Hotel California!'\n",
      "p2 sings 'Hotel California!'\n",
      "p1 can speak!\n",
      "Sorry, but p2 can not speak.\n"
     ]
    }
   ],
   "source": [
    "p1 = parrot('p1', 2, True) \n",
    "p2 = parrot('p2', 2, False) \n",
    "\n",
    "print(p1.describe())\n",
    "print(p2.describe())\n",
    "\n",
    "print(p1.sing(\"Hotel California!\"))\n",
    "print(p2.sing(\"Hotel California!\"))\n",
    "\n",
    "print(p1.get_canspeak())\n",
    "print(p2.get_canspeak())"
   ]
  },
  {
   "cell_type": "code",
   "execution_count": 15,
   "metadata": {
    "slideshow": {
     "slide_type": "slide"
    }
   },
   "outputs": [],
   "source": [
    "# What happens if I do this ?\n",
    "\n",
    "class parrot(bird):\n",
    "    canspeak = None\n",
    "    \n",
    "    def __init__(self, name, age, canspeak):\n",
    "        super().__init__('parrot', name, age)\n",
    "        self.canspeak = canspeak\n",
    "        \n",
    "    def describe(self):\n",
    "        return \"I am stupid parrot!\"\n",
    "        \n",
    "    def get_canspeak(self):\n",
    "        if self.canspeak:\n",
    "            return \"{} can speak!\".format(self.name)\n",
    "        else:\n",
    "            return \"Sorry, but {} can not speak.\".format(self.name)"
   ]
  },
  {
   "cell_type": "markdown",
   "metadata": {
    "slideshow": {
     "slide_type": "slide"
    }
   },
   "source": [
    "# Overriding a method\n",
    "\n",
    "## Why we might need it ?"
   ]
  },
  {
   "cell_type": "code",
   "execution_count": 19,
   "metadata": {
    "slideshow": {
     "slide_type": "fragment"
    }
   },
   "outputs": [
    {
     "name": "stdout",
     "output_type": "stream",
     "text": [
      "I am stupid parrot!\n",
      "p2 is a parrot of age 2\n"
     ]
    }
   ],
   "source": [
    "p3 = parrot('p3', 2, True) \n",
    "\n",
    "print(p3.describe())\n",
    "print(p2.describe())"
   ]
  },
  {
   "cell_type": "markdown",
   "metadata": {
    "slideshow": {
     "slide_type": "slide"
    }
   },
   "source": [
    "# Multiple inheritence\n"
   ]
  },
  {
   "cell_type": "code",
   "execution_count": 24,
   "metadata": {
    "slideshow": {
     "slide_type": "fragment"
    }
   },
   "outputs": [],
   "source": [
    "# Consider a class that represents characters in harry potter movie.\n",
    "\n",
    "class Hcharacter:\n",
    "    name = None\n",
    "    book_first_appeared = None\n",
    "    \n",
    "    def __init__(self, name, book_first_appeared):\n",
    "        self.name = name\n",
    "        self.book_first_appeared = book_first_appeared\n",
    "        \n",
    "    def get_book_first_appeared(self):\n",
    "        return \"'{}' first appeared in book {}!\".format(self.name, self.book_first_appeared)"
   ]
  },
  {
   "cell_type": "code",
   "execution_count": 25,
   "metadata": {
    "slideshow": {
     "slide_type": "fragment"
    }
   },
   "outputs": [
    {
     "data": {
      "text/plain": [
       "\"'prof. snape' first appeared in book 1!\""
      ]
     },
     "execution_count": 25,
     "metadata": {},
     "output_type": "execute_result"
    }
   ],
   "source": [
    "c1 = Hcharacter(\"prof. snape\", 1)\n",
    "\n",
    "c1.get_book_first_appeared()"
   ]
  },
  {
   "cell_type": "markdown",
   "metadata": {
    "slideshow": {
     "slide_type": "slide"
    }
   },
   "source": [
    "## How do we represent a Harry potter character which is also a bird?"
   ]
  },
  {
   "cell_type": "code",
   "execution_count": 41,
   "metadata": {
    "slideshow": {
     "slide_type": "fragment"
    }
   },
   "outputs": [],
   "source": [
    "class headwig(bird, Hcharacter):\n",
    "    \n",
    "    def __init__(self, name, book_first_appeared, species, age):\n",
    "        bird.__init__(self, species, name, age)\n",
    "        Hcharacter.__init__(self, name, book_first_appeared)"
   ]
  },
  {
   "cell_type": "code",
   "execution_count": 42,
   "metadata": {
    "slideshow": {
     "slide_type": "fragment"
    }
   },
   "outputs": [
    {
     "name": "stdout",
     "output_type": "stream",
     "text": [
      "headie is a crossbreed of age 3\n",
      "'headie' first appeared in book 2!\n"
     ]
    }
   ],
   "source": [
    "h1 = headwig('headie', 2, 'crossbreed', '3')\n",
    "\n",
    "print(h1.describe())\n",
    "print(h1.get_book_first_appeared())"
   ]
  },
  {
   "cell_type": "markdown",
   "metadata": {
    "slideshow": {
     "slide_type": "slide"
    }
   },
   "source": [
    "# Assignment 0 - Another question on writing classes. (Assignment is borrowed from Internet)\n",
    "\n",
    "Okay so here’s the breakdown of the requirements for this assignment. You will need to develop a system that can track employee information for two Organizations (Google and Microsoft). The Employee information you must track is as follows:\n",
    "\n",
    "    Name\n",
    "    Sex\n",
    "    Job Title\n",
    "    Organization they work for\n",
    "    Birthday\n",
    "\n",
    "As for the Organization that the Employee works for, you must also track this information:\n",
    "\n",
    "    Organization Name\n",
    "    Number of Employees\n",
    "\n",
    "The system must be able to properly compare any two employees against each other to determine if they are the same Person. This means that if you compared two People with the same Name, Sex, Birthday and Organization, the system should think that they are equals to one another. If any of these properties are different, then the two People are not the same Person.\n",
    "\n",
    "The same rules apply to comparing Organizations to one another. Organizations with the same Organization name are to be thought of as equal, different names means different organizations.\n",
    "\n",
    "\n",
    "* How many classes we need here?\n",
    "* What methods we need?"
   ]
  },
  {
   "cell_type": "markdown",
   "metadata": {
    "slideshow": {
     "slide_type": "slide"
    }
   },
   "source": [
    "# Assignment 1 - Easy\n",
    "\n",
    "Use the class that you wrote to calculate the area of a given rectangle in previous excerise. Inherit it to create a class that can calculate the area of a given square.\n",
    "\n",
    "* Do you need to change the constructor?\n",
    "* Do you need to override any method?"
   ]
  },
  {
   "cell_type": "markdown",
   "metadata": {
    "slideshow": {
     "slide_type": "slide"
    }
   },
   "source": [
    "# Assignment 2 - Intermediate\n",
    "\n",
    "In this task we will try and simulate a more advanced bank enviornment. There are two entities that we are considering for this task customers and accounts. For each customer we need to track-\n",
    "\n",
    "* Name\n",
    "* Sex\n",
    "* Email id\n",
    "* Randomly generated unique id\n",
    "\n",
    "There are two types of accounts - \"Savings\" and \"Current\". Each of these accounts support withdrawing, depositing money and checking balance. Following rules are in place-\n",
    "\n",
    "* Withdrawl from savings account costs RS 100 per withdrawal\n",
    "* Any Deposit in current account which is more than 100000 INR costs 200 INR or 0.1% of the amount, which ever is higher.\n",
    "\n",
    "Bank supports following features -\n",
    "\n",
    "* Any person can come and open an account in the bank.\n",
    "* A person can have a maximum of 1 savings account and 1 current account.\n",
    "* Each customer must have atleast 1 account to be in system.\n",
    "\n",
    "Write classes to support this ecosystem. Write sample codes to invoke different actions in this eco system to test various methods."
   ]
  },
  {
   "cell_type": "code",
   "execution_count": null,
   "metadata": {},
   "outputs": [],
   "source": []
  }
 ],
 "metadata": {
  "celltoolbar": "Slideshow",
  "kernelspec": {
   "display_name": "Python 3",
   "language": "python",
   "name": "python3"
  },
  "language_info": {
   "codemirror_mode": {
    "name": "ipython",
    "version": 3
   },
   "file_extension": ".py",
   "mimetype": "text/x-python",
   "name": "python",
   "nbconvert_exporter": "python",
   "pygments_lexer": "ipython3",
   "version": "3.6.7"
  },
  "toc": {
   "base_numbering": 1,
   "nav_menu": {},
   "number_sections": true,
   "sideBar": true,
   "skip_h1_title": false,
   "title_cell": "Table of Contents",
   "title_sidebar": "Contents",
   "toc_cell": false,
   "toc_position": {},
   "toc_section_display": true,
   "toc_window_display": false
  },
  "varInspector": {
   "cols": {
    "lenName": 16,
    "lenType": 16,
    "lenVar": 40
   },
   "kernels_config": {
    "python": {
     "delete_cmd_postfix": "",
     "delete_cmd_prefix": "del ",
     "library": "var_list.py",
     "varRefreshCmd": "print(var_dic_list())"
    },
    "r": {
     "delete_cmd_postfix": ") ",
     "delete_cmd_prefix": "rm(",
     "library": "var_list.r",
     "varRefreshCmd": "cat(var_dic_list()) "
    }
   },
   "types_to_exclude": [
    "module",
    "function",
    "builtin_function_or_method",
    "instance",
    "_Feature"
   ],
   "window_display": false
  }
 },
 "nbformat": 4,
 "nbformat_minor": 2
}
