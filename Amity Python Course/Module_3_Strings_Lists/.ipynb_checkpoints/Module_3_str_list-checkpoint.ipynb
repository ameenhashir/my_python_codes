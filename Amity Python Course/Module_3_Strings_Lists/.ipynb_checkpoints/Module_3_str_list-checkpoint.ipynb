{
 "cells": [
  {
   "cell_type": "markdown",
   "metadata": {},
   "source": [
    "#  MODULE 3:  Strings and Lists and Date Time functions \n",
    "\n"
   ]
  },
  {
   "cell_type": "markdown",
   "metadata": {},
   "source": [
    "## Strings"
   ]
  },
  {
   "cell_type": "markdown",
   "metadata": {},
   "source": [
    "### Special String Operators "
   ]
  },
  {
   "cell_type": "code",
   "execution_count": 1,
   "metadata": {},
   "outputs": [
    {
     "name": "stdout",
     "output_type": "stream",
     "text": [
      "Str3 = Str1 + Str2 =  Hello World\n"
     ]
    }
   ],
   "source": [
    "# Concatenation \n",
    "Str1 = \"Hello\"\n",
    "Str2 = \"World\"\n",
    "\n",
    "Str3 = Str1 + \" \" + Str2\n",
    "print(\"Str3 = Str1 + Str2 = \", Str3)"
   ]
  },
  {
   "cell_type": "code",
   "execution_count": null,
   "metadata": {},
   "outputs": [],
   "source": [
    "# Repetition \n",
    "Str1 = \"ABC\"\n",
    "Str2 = Str1*3\n",
    "print(\"Str2 = Str1*3  = \",Str2)"
   ]
  },
  {
   "cell_type": "markdown",
   "metadata": {},
   "source": [
    "### Built in String Methods "
   ]
  },
  {
   "cell_type": "code",
   "execution_count": null,
   "metadata": {},
   "outputs": [],
   "source": [
    "# Count of subtring in a given string \n",
    "str = \"this is string example\";\n",
    "sub = \"is\";\n",
    "print (\"str.count(sub, 0, 40) : \", str.count(sub,0,40))"
   ]
  },
  {
   "cell_type": "code",
   "execution_count": null,
   "metadata": {},
   "outputs": [],
   "source": [
    "# Find - returns index pos of sub string in parent string \n",
    "\n",
    "str1 = \"this is string example\";\n",
    "str2 = \"exam\";\n",
    "\n",
    "print (str1.find(str2))\n",
    "print (str1.find(str2, 10,len(str1)))\n",
    "print (str1.find(str2, 40,len(str1)))\n",
    "   "
   ]
  },
  {
   "cell_type": "code",
   "execution_count": null,
   "metadata": {
    "scrolled": true
   },
   "outputs": [],
   "source": [
    "# Alphabetic check \n",
    "str1 = \"this\";  # No space & digit in this string\n",
    "print (str1.isalpha())\n",
    "\n",
    "str2 = \"this is string example....wow!!!\";\n",
    "print (str2.isalpha())\n"
   ]
  },
  {
   "cell_type": "code",
   "execution_count": null,
   "metadata": {},
   "outputs": [],
   "source": [
    "# digit check\n",
    "str1 = \"123456\";  # Only digit in this string\n",
    "print (str1.isdigit())\n",
    "\n",
    "str2 = \"this is string example....wow!!!\";\n",
    "print (str2.isdigit())"
   ]
  },
  {
   "cell_type": "code",
   "execution_count": null,
   "metadata": {},
   "outputs": [],
   "source": [
    "#lower case check \n",
    "str1 = \"THIS is string example....wow!!!\"; \n",
    "print (str1.islower())\n",
    "\n",
    "str2 = \"this is string example....wow!!!\";\n",
    "print (str2.islower())"
   ]
  },
  {
   "cell_type": "code",
   "execution_count": null,
   "metadata": {},
   "outputs": [],
   "source": [
    "\n",
    "# convert to lower\n",
    "str1 = \"THIS IS STRING example\";\n",
    "print (str1.lower())\n"
   ]
  },
  {
   "cell_type": "code",
   "execution_count": null,
   "metadata": {},
   "outputs": [],
   "source": [
    "\n",
    "# Stripping  trailing white space \n",
    "str1 = \"XXXXXthis is string example....wow!!!     \";\n",
    "print(len(str1))\n",
    "print(len(str1.lstrip()))\n",
    "\n",
    "print (str1.rstrip())"
   ]
  },
  {
   "cell_type": "code",
   "execution_count": null,
   "metadata": {},
   "outputs": [],
   "source": [
    "\n",
    "#  Replace old string with new \n",
    "str = \"this is a string\"\n",
    "print (str.replace(\"is\", \"was\"))\n",
    "print (str.replace(\"is\", \"was\", 1))\n"
   ]
  },
  {
   "cell_type": "code",
   "execution_count": null,
   "metadata": {},
   "outputs": [],
   "source": [
    "# Splitting strings \n",
    "str = \"Line1-abcdef  Line2-abc Line3-abcd\";\n",
    "print (str.split( ))\n",
    "print (str.split(' ', 1 )) # One split "
   ]
  },
  {
   "cell_type": "code",
   "execution_count": null,
   "metadata": {},
   "outputs": [],
   "source": [
    "# Translate Table\n",
    "intab = \"aeiou\"\n",
    "outtab = \"12345\"\n",
    "str1 = \"this is string example....wow!!!\"\n",
    "str2 = str1.translate(str.maketrans(intab,outtab))\n",
    "print(\"Before Change String is : \",str1)\n",
    "print(\"After Change String is : \",str2)"
   ]
  },
  {
   "cell_type": "markdown",
   "metadata": {},
   "source": [
    "### Advanced String Operations : String Manipulations  "
   ]
  },
  {
   "cell_type": "code",
   "execution_count": null,
   "metadata": {},
   "outputs": [],
   "source": [
    "from pandas import *\n",
    "from numpy import *\n",
    "from scipy import *\n",
    "import re \n"
   ]
  },
  {
   "cell_type": "code",
   "execution_count": null,
   "metadata": {},
   "outputs": [],
   "source": [
    "# Split a comma seprated string \n",
    "Str1 = 'a,b,c'\n",
    "Str1_Arr = Str1.split(',')\n",
    "Str1_Arr "
   ]
  },
  {
   "cell_type": "code",
   "execution_count": null,
   "metadata": {},
   "outputs": [],
   "source": [
    "\n",
    "# Create comma separated string with white spaces \n",
    "Str2 = 'aaaa, bbb,  cc'\n",
    "Str2_Arr = [x.strip() for x in Str2.split(',')]\n",
    "Str2_Arr"
   ]
  },
  {
   "cell_type": "code",
   "execution_count": null,
   "metadata": {},
   "outputs": [],
   "source": [
    "# Concatenate substrings with a delimiter \n",
    "# get the substrings \n",
    "First, Second, Third = Str2_Arr\n",
    "All_in_One = First + \"::\" + Second + \"::\" + Third\n",
    "All_in_One "
   ]
  },
  {
   "cell_type": "code",
   "execution_count": null,
   "metadata": {},
   "outputs": [],
   "source": [
    "# Now a better way to join the substrings !\n",
    "All_better = \"::\".join(Str2_Arr)\n",
    "All_better"
   ]
  },
  {
   "cell_type": "code",
   "execution_count": null,
   "metadata": {},
   "outputs": [],
   "source": [
    "\n",
    "# Checking for a substring within a string \n",
    "Big_str = \"This is a short sentence\"\n",
    "Sub_str = \"short\"\n",
    "Sub_str2 = \"big\"\n",
    "# Check for Sub Str in Big Str \n",
    "Chk_Str = Sub_str in Big_str\n",
    "Chk_Str"
   ]
  },
  {
   "cell_type": "code",
   "execution_count": null,
   "metadata": {},
   "outputs": [],
   "source": [
    "# Check Index pos of Sub str in Big str  with find \n",
    "Chkfind = Big_str.find(Sub_str)\n",
    "Chkfind \n",
    "# Find Returns index pos else returns -1 "
   ]
  },
  {
   "cell_type": "code",
   "execution_count": null,
   "metadata": {},
   "outputs": [],
   "source": [
    "# Let us try the index command now \n",
    "ChkInd = Big_str.index(Sub_str)\n",
    "ChkInd"
   ]
  },
  {
   "cell_type": "code",
   "execution_count": null,
   "metadata": {},
   "outputs": [],
   "source": [
    "# Now check for a string not present \n",
    "ChkInd = Big_str.index(Sub_str)\n",
    "ChkInd"
   ]
  },
  {
   "cell_type": "code",
   "execution_count": null,
   "metadata": {},
   "outputs": [],
   "source": [
    "# Count the number of occurence of a substring in main string \n",
    "Chkcnt = Big_str.count(Sub_str)\n",
    "Chkcnt"
   ]
  },
  {
   "cell_type": "markdown",
   "metadata": {},
   "source": [
    "### Regular Expressions "
   ]
  },
  {
   "cell_type": "code",
   "execution_count": null,
   "metadata": {},
   "outputs": [],
   "source": [
    "# Example 1: Splitting s atring with variable white space\n",
    "# regex is '\\s+'  \n",
    "#--------------------------------------------------------------------------\n",
    "import re \n",
    "text1 = \" We have a    Lot \\t    of white space here   \"\n",
    "split_text1 = re.split('\\s+',text1)\n",
    "split_text1\n"
   ]
  },
  {
   "cell_type": "code",
   "execution_count": null,
   "metadata": {},
   "outputs": [],
   "source": [
    "#------------------------------------------------------------------------\n",
    "# Example 2:   reg ex on email id types \n",
    "#------------------------------------------------------------------------\n",
    "text2 = \"\"\"Dave dave@google.com\n",
    "Steve steve@gmail.com\n",
    "Rob rob@gmail.com\n",
    "Ryan ryan@yahoo.com\n",
    "\"\"\"\n",
    "\n",
    "# Notes:   findall returns ALL matches in a string \n",
    "# Notes    search returns ONLY the first match \n",
    "\n",
    "# Define Pattern \n",
    "# r' '   means raw string \n",
    "# [A-Z0-9._%+-] means A to Z , 0 to 9 and special chars \n",
    "# [A-Z]{2,4}  Alphabets length between 2 to 4 \n",
    "pattern = r'[A-Z0-9._%+-]+@[A-Z0-9.-]+\\.[A-Z]{2,4}'\n",
    "\n",
    "# Compile pattern after ignoring case \n",
    "regex = re.compile(pattern, flags=re.IGNORECASE)\n",
    "\n",
    "# Find All email addresses in text \n",
    "List_EMails = regex.findall(text2) \n",
    "List_EMails"
   ]
  },
  {
   "cell_type": "code",
   "execution_count": null,
   "metadata": {},
   "outputs": [],
   "source": [
    "# Search command\n",
    "List_EMails_Breakup = regex.search(text2) \n",
    "List_EMails_Breakup\n",
    "\n",
    "# Note:  The Search command only returns the first occurence \n",
    "#        The  start end positions     of the reg ex string"
   ]
  },
  {
   "cell_type": "code",
   "execution_count": null,
   "metadata": {},
   "outputs": [],
   "source": [
    "# Substitute a Reg Ex With any other string : Use this for masking \n",
    "Masked_Emails = regex.sub('Masked_Email', text2)"
   ]
  },
  {
   "cell_type": "code",
   "execution_count": null,
   "metadata": {},
   "outputs": [],
   "source": [
    "# Dividing The email ids in user names ; domain name ; domain suffix\n",
    "pattern1 = r'([A-Z0-9._%+-]+)@([A-Z0-9.-]+)\\.([A-Z]{2,4})'\n",
    "\n",
    "# Compile pattern after ignoring case \n",
    "regex = re.compile(pattern1, flags=re.IGNORECASE)\n",
    "\n",
    "List_break_up =   regex.findall(text2)\n",
    "List_break_up"
   ]
  },
  {
   "cell_type": "code",
   "execution_count": null,
   "metadata": {},
   "outputs": [],
   "source": [
    "# Generate a named list of the break of email ids \n",
    "regex = re.compile(r'(?P<username>[A-Z0-9._%+-]+)@(?P<domain>[A-Z0-9.-]+)\\.(?P<suffix>[A-Z]{2,4})',flags=re.IGNORECASE) \n",
    "Break_namedlist = regex.findall(text2)\n",
    "Break_namedlist \n",
    "\n",
    "match_namedlist = regex.match('abc@xyz.com')\n",
    "match_namedlist \n",
    "match_namedlist.groupdict()"
   ]
  },
  {
   "cell_type": "markdown",
   "metadata": {},
   "source": [
    "## Lists "
   ]
  },
  {
   "cell_type": "code",
   "execution_count": null,
   "metadata": {},
   "outputs": [],
   "source": [
    "list1 = ['ABCD', 'XYZ', 1234, 9999];\n",
    "list2 = [1, 2, 3, 4, 5, 6, 7 ];\n",
    "\n",
    "# Accessing list items \n",
    "print (\"list1[0]: \", list1[0])\n",
    "print (\"list2[1:5]: \", list2[1:5])"
   ]
  },
  {
   "cell_type": "markdown",
   "metadata": {},
   "source": [
    "### Basic list operations "
   ]
  },
  {
   "cell_type": "code",
   "execution_count": null,
   "metadata": {},
   "outputs": [],
   "source": [
    "list1 = [1,2,5]\n",
    "list2 = [3,4,5]"
   ]
  },
  {
   "cell_type": "code",
   "execution_count": null,
   "metadata": {},
   "outputs": [],
   "source": [
    "# Length\n",
    "len1 = len(list1)\n",
    "print(\"length = \",len1)\n"
   ]
  },
  {
   "cell_type": "code",
   "execution_count": null,
   "metadata": {},
   "outputs": [],
   "source": [
    "#Concatenation \n",
    "list3 =   list1 + list2\n",
    "print(\"Concat List is : \",list3)"
   ]
  },
  {
   "cell_type": "code",
   "execution_count": null,
   "metadata": {},
   "outputs": [],
   "source": [
    "# Repetition \n",
    "list4 = 4*list1"
   ]
  },
  {
   "cell_type": "code",
   "execution_count": null,
   "metadata": {},
   "outputs": [],
   "source": [
    "# Membership \n",
    "if(3 in list2):\n",
    "    print(\"list 2 = \",list2)\n",
    "    print(\"3 is a member of list2\")\n",
    "else:\n",
    "    print(\"3 is not a member of list2\")     "
   ]
  },
  {
   "cell_type": "code",
   "execution_count": null,
   "metadata": {},
   "outputs": [],
   "source": [
    "# Iteration \n",
    "for x in [1, 2, 3]:\n",
    "    print(x)\n",
    "    "
   ]
  },
  {
   "cell_type": "markdown",
   "metadata": {},
   "source": [
    "### Built in list methods "
   ]
  },
  {
   "cell_type": "code",
   "execution_count": null,
   "metadata": {},
   "outputs": [],
   "source": [
    "# Appending elements to a list \n",
    "#-------------------------------------\n",
    "list1 = [123, 'xyz', 'pqr', 'abc']\n",
    "print(\"List before Append\",list1)\n",
    "list1.append([1,2,3,4])\n",
    "print(\"List after Append\",list1)\n",
    "print(list1)"
   ]
  },
  {
   "cell_type": "code",
   "execution_count": null,
   "metadata": {},
   "outputs": [],
   "source": [
    "#-------------------------------------------------------\n",
    "#  Count of particular elements in a list \n",
    "#-------------------------------------------------------\n",
    "list1 = [123, 'xyz', '999', 'abc', 123];\n",
    "print (\"Count for 123 : \", list1.count(123))\n",
    "print (\"Count for xyz : \", list1.count('xyz'))\n"
   ]
  },
  {
   "cell_type": "code",
   "execution_count": null,
   "metadata": {},
   "outputs": [],
   "source": [
    "#-------------------------------------------------------\n",
    "# Extend a list \n",
    "#------------------------------------------------------\n",
    "Primary_List = [123, 'xyz', 'zara', 'abc', 123]\n",
    "Secondary_List = [2009, 'manni']\n",
    "print(\"Primary List - Original: \",Primary_List)\n",
    "Primary_List.extend(Secondary_List)\n",
    "print(\"Extended Primary List : \", Primary_List)"
   ]
  },
  {
   "cell_type": "code",
   "execution_count": null,
   "metadata": {},
   "outputs": [],
   "source": [
    "#---------------------------------------------------------\n",
    "# Index of object in a list \n",
    "#---------------------------------------------------------\n",
    "list1 = [123, 'xyz', 'pqr', 'abc',456];\n",
    "print (\"Index for xyz : \", list1.index('xyz')) \n",
    "print (\"Index for 123 : \", list1.index(123))\n",
    "print(list1[-2])"
   ]
  },
  {
   "cell_type": "code",
   "execution_count": null,
   "metadata": {},
   "outputs": [],
   "source": [
    "#---------------------------------------------------------\n",
    "# Insert at Index position \n",
    "#---------------------------------------------------------\n",
    "list1 = [123, 'xyz', 'pqr', 'abc']\n",
    "print(\"Original list is : \",list1)\n",
    "list1.insert(1, \"ZZZ\")\n",
    "print(\"Modified list is: \",list1)"
   ]
  },
  {
   "cell_type": "code",
   "execution_count": null,
   "metadata": {},
   "outputs": [],
   "source": [
    "#-----------------------------------------------------------\n",
    "#  Removes object from a list \n",
    "#----------------------------------------------------------\n",
    "list1 = [123, 'xyz', 'pqr', 'abc', 'xyz'];\n",
    "set1 = set(list1)\n",
    "print(set1)\n",
    "print([set1])\n",
    "print(\"Original list: \",list1)\n",
    "list1.remove('xyz');\n",
    "print(\"List after modification: \",list1)"
   ]
  },
  {
   "cell_type": "code",
   "execution_count": null,
   "metadata": {},
   "outputs": [],
   "source": [
    "#---------------------------------------------------------\n",
    "#  Reverse Objects from a list \n",
    "#----------------------------------------------------------\n",
    "list1 = [123, 456, 789, 'abc', 'xyz']\n",
    "print(\"List before reverse\", list1)\n",
    "list1.reverse();\n",
    "print(\"List after reverse\",list1)"
   ]
  },
  {
   "cell_type": "code",
   "execution_count": null,
   "metadata": {},
   "outputs": [],
   "source": [
    "#---------------------------------------------------------\n",
    "#  Sort elements of a list \n",
    "#--------------------------------------------------------\n",
    "list1 = [456,999,234,123]\n",
    "print(\"List before sort\",list1)\n",
    "list1.sort()\n",
    "print(\"list after sort \",list1)"
   ]
  },
  {
   "cell_type": "code",
   "execution_count": null,
   "metadata": {},
   "outputs": [],
   "source": [
    "\n",
    "#  How to Sort in Reverse \n",
    "#---------------------------------------------------\n",
    "#   Tuples : Cannot be  modified unline lists \n",
    "#-----------------------------------------------------\n",
    "tup1 = ('physics', 'chemistry', 1997, 2000);\n",
    "tup2 = (1, 2, 3, 4, 5 );\n",
    "tup3 = (\"a\", \"b\", \"c\", \"d\")"
   ]
  },
  {
   "cell_type": "code",
   "execution_count": null,
   "metadata": {},
   "outputs": [],
   "source": [
    "# Cannot be modified \n",
    "tup3[1] = \"x\""
   ]
  },
  {
   "cell_type": "markdown",
   "metadata": {},
   "source": [
    "## Date Time Functions "
   ]
  },
  {
   "cell_type": "code",
   "execution_count": null,
   "metadata": {},
   "outputs": [],
   "source": [
    "#--------------------------------------------------------\n",
    "# Local time \n",
    "#-------------------------------------------------------\n",
    "import time;\n",
    "\n",
    "localtime = time.localtime(time.time())\n",
    "print (\"Local current time :\", localtime)"
   ]
  },
  {
   "cell_type": "code",
   "execution_count": null,
   "metadata": {},
   "outputs": [],
   "source": [
    "#---------------------------------------------------\n",
    "# asctime()  Formatted Local time \n",
    "# Converts a Time Tuple into a 24 char format \n",
    "#---------------------------------------------------\n",
    "import time;\n",
    "localtime = time.asctime(time.localtime(time.time()))\n",
    "print (\"Formatted Local current time :\", localtime)"
   ]
  },
  {
   "cell_type": "code",
   "execution_count": null,
   "metadata": {},
   "outputs": [],
   "source": [
    "#-----------------------------------------------------\n",
    "#  Getting the CPU Time to measure computational costs\n",
    "#-----------------------------------------------------\n",
    "import time\n",
    "def procedure():\n",
    "    time.sleep(2.5)\n",
    "# measure process time\n",
    "t0 = time.clock()\n",
    "print (time.clock(), \"Before Process \")\n",
    "procedure()\n",
    "print (time.clock(), \"After Process \")"
   ]
  },
  {
   "cell_type": "code",
   "execution_count": null,
   "metadata": {},
   "outputs": [],
   "source": [
    "#--------------------------------------------------\n",
    "#  Calendar Module Examples \n",
    "#--------------------------------------------------\n",
    "# Print calendar for a  particular month \n",
    "import calendar\n",
    "cal = calendar.month(2017, 9)\n",
    "print (\"Here is the calendar: for 2017 September\")\n",
    "print (cal)\n"
   ]
  },
  {
   "cell_type": "code",
   "execution_count": null,
   "metadata": {},
   "outputs": [],
   "source": [
    "# Leap year check \n",
    "if(calendar.isleap(2016)):\n",
    "    print(\"2016 is a leap year \")\n",
    "else:\n",
    "    print (\"2016 is NOT a leap year\")    \n",
    "\t"
   ]
  },
  {
   "cell_type": "markdown",
   "metadata": {},
   "source": [
    "### End of Module 3 - Strings and Lists "
   ]
  }
 ],
 "metadata": {
  "kernelspec": {
   "display_name": "Python 3",
   "language": "python",
   "name": "python3"
  },
  "language_info": {
   "codemirror_mode": {
    "name": "ipython",
    "version": 3
   },
   "file_extension": ".py",
   "mimetype": "text/x-python",
   "name": "python",
   "nbconvert_exporter": "python",
   "pygments_lexer": "ipython3",
   "version": "3.6.7"
  }
 },
 "nbformat": 4,
 "nbformat_minor": 2
}
