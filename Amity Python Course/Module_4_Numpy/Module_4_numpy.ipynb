{
 "cells": [
  {
   "cell_type": "markdown",
   "metadata": {},
   "source": [
    "#  MODULE 4:  Numpy\n",
    "\n"
   ]
  },
  {
   "cell_type": "markdown",
   "metadata": {},
   "source": [
    "## Arrays"
   ]
  },
  {
   "cell_type": "code",
   "execution_count": null,
   "metadata": {},
   "outputs": [],
   "source": [
    "Table of Contents:\n",
    "Basics:\n",
    "    1.Single dimensional array \n",
    "    2.Multi dimensional array \n",
    "    3.Check the Dimension of the array \n",
    "    4.Create and array of zeros \n",
    "    5.Check Data Type of Array \n",
    "Arrays and Scalars:\n",
    "    1.ELement wise array multiplication \n",
    "    2.Indexing and slicing of arrays \n",
    "    3.Boolean Indexing \n",
    "Array Operations\n",
    "    1.Slicing multi dimensional Arrays \n",
    "    2.Square Root \n",
    "    3.Array with maximum of 2 arrays\n",
    "    4.Conditional logic as Array Operators\n",
    "    5.The where clause in arrays \n",
    "Basic Statistical functions\n",
    "    1.Mean\n",
    "    2.Sum\n",
    "    3.Column means (0th dimension or axis )\n",
    "Misc Array operations\n",
    "    1.Sorting\n",
    "    2.Unique  and other Array set operations\n",
    "    3.Generate a 4 by 4  Array of random numbers following Normal distribution "
   ]
  },
  {
   "cell_type": "code",
   "execution_count": 10,
   "metadata": {},
   "outputs": [
    {
     "name": "stdout",
     "output_type": "stream",
     "text": [
      "Array 1 :  [ 1.4  7.   8.  12.3]\n"
     ]
    },
    {
     "data": {
      "text/plain": [
       "dtype('float64')"
      ]
     },
     "execution_count": 10,
     "metadata": {},
     "output_type": "execute_result"
    }
   ],
   "source": [
    "from numpy import *\n",
    "# Single dimensional array \n",
    "array_data1 = array([1.4, 7, 8, 12.3])\n",
    "print(\"Array 1 : \",array_data1)\n",
    "array_data1.dtype"
   ]
  },
  {
   "cell_type": "code",
   "execution_count": 11,
   "metadata": {},
   "outputs": [
    {
     "name": "stdout",
     "output_type": "stream",
     "text": [
      "Array 2:  [[1 2 3 4]\n",
      " [5 6 7 8]]\n"
     ]
    }
   ],
   "source": [
    "# Multi dimensional array \n",
    "#\n",
    "array_data2 = [[1, 2, 3, 4], [5, 6, 7, 8]]\n",
    "array2 = array(array_data2)\n",
    "print(\"Array 2: \", array2)"
   ]
  },
  {
   "cell_type": "code",
   "execution_count": 12,
   "metadata": {},
   "outputs": [
    {
     "name": "stdout",
     "output_type": "stream",
     "text": [
      "Dimension of array2 is  2\n",
      "Shape of array2 is  (2, 4)\n"
     ]
    }
   ],
   "source": [
    "# Check the Dimension of the array \n",
    "print(\"Dimension of array2 is \",array2.ndim)\n",
    "\n",
    "# Check the Size of Array \n",
    "print(\"Shape of array2 is \",array2.shape)"
   ]
  },
  {
   "cell_type": "code",
   "execution_count": 5,
   "metadata": {},
   "outputs": [
    {
     "name": "stdout",
     "output_type": "stream",
     "text": [
      "('Zero Array', array([[0., 0., 0., 0., 0., 0.],\n",
      "       [0., 0., 0., 0., 0., 0.],\n",
      "       [0., 0., 0., 0., 0., 0.]]))\n"
     ]
    }
   ],
   "source": [
    "# Create and array of zeros \n",
    "Zero_Array = zeros((3, 6))\n",
    "print(\"Zero Array\",Zero_Array)\n"
   ]
  },
  {
   "cell_type": "code",
   "execution_count": 6,
   "metadata": {
    "scrolled": true
   },
   "outputs": [
    {
     "name": "stdout",
     "output_type": "stream",
     "text": [
      "('data type of Array1 is : ', dtype('int32'))\n"
     ]
    }
   ],
   "source": [
    "# Check Data Type of Array \n",
    "array_data1 = [1,2,3,4]\n",
    "Array1 = array(array_data1)\n",
    "print(\"data type of Array1 is : \",Array1.dtype)"
   ]
  },
  {
   "cell_type": "markdown",
   "metadata": {},
   "source": [
    "\n",
    "### Arrays and Scalars \n",
    "\n",
    "### Notes:1)  Operations between Arrays of same size happens element wise \n",
    "### Notes:2)  Operations with Arrays and Scalars will propagate to each element \n"
   ]
  },
  {
   "cell_type": "code",
   "execution_count": 17,
   "metadata": {},
   "outputs": [
    {
     "name": "stdout",
     "output_type": "stream",
     "text": [
      "('Original Array ', array([[1, 2, 3],\n",
      "       [4, 5, 6]]))\n",
      "('Element wise sq of arr1 is : ', array([[ 1,  4,  9],\n",
      "       [16, 25, 36]]))\n",
      "('Double array element wise', array([[ 2,  4,  6],\n",
      "       [ 8, 10, 12]]))\n"
     ]
    }
   ],
   "source": [
    "#--------------------\n",
    "# ELement wise array multiplication \n",
    "#--------------------\n",
    "arr1 = array([[1,2,3],[4,5,6]])\n",
    "arr2 = arr1*arr1 \n",
    "print(\"Original Array \",arr1)\n",
    "print(\"Element wise sq of arr1 is : \",arr2)\n",
    "arr3 = arr1*2\n",
    "print(\"Double array element wise\", arr3)"
   ]
  },
  {
   "cell_type": "code",
   "execution_count": 13,
   "metadata": {},
   "outputs": [
    {
     "name": "stdout",
     "output_type": "stream",
     "text": [
      "Arr1 before manipulation is : [0 1 2 3 4 5 6 7 8 9]\n",
      "Sub_Array before change is: [3 4]\n",
      "Sub Array after change : [56  4]\n",
      "Original Array is [ 0  1  2 56  4  5  6  7  8  9]\n",
      "Sub Array after new assign is :  66\n",
      "Main Array after new assign is :  [ 0  1  2 56  4  5  6  7  8  9]\n"
     ]
    }
   ],
   "source": [
    "#--------------------------------------------\n",
    "# Indexing and slicing of arrays \n",
    "#--------------------------------------------\n",
    "# Define Array of 10 elements \n",
    "Arr1 = array(arange(10))\n",
    "print(\"Arr1 before manipulation is :\",Arr1)\n",
    "\n",
    "\n",
    "# Choose Index pos 3 to 5 and create a sub array \n",
    "# Note the 5th Index position actually does not get selected \n",
    "# Note: Only elemenst upto the 5th position get selected \n",
    "Sub_Arr1 = Arr1[3:5]\n",
    "# Display elements of sub array \n",
    "print(\"Sub_Array before change is:\",Sub_Arr1)\n",
    "\n",
    "\n",
    "# Assign a fixed value to sub Array Index Pos 0 \n",
    "Sub_Arr1[0] = 56\n",
    "# Display elements of Sub_Arr1\n",
    "print(\"Sub Array after change :\",Sub_Arr1)\n",
    "\n",
    "\n",
    "\n",
    "# Display elements of original array \n",
    "# Note: change in sub Array caused change in main array \n",
    "print(\"Original Array is\",Arr1)\n",
    "\n",
    "\n",
    "\n",
    "# Assign a element to the entire Sub array \n",
    "Sub_Arr1 = 66\n",
    "# Display Sub Arry \n",
    "print(\"Sub Array after new assign is : \",Sub_Arr1)\n",
    "\n",
    "\n",
    "# Display main Array \n",
    "print(\"Main Array after new assign is : \", Arr1)\n"
   ]
  },
  {
   "cell_type": "code",
   "execution_count": 14,
   "metadata": {},
   "outputs": [
    {
     "name": "stdout",
     "output_type": "stream",
     "text": [
      "(7,)\n",
      "[0 1 2 3 4 5 6]\n",
      "Rand Vector [5 6 3 5 1 2 4]\n",
      "Matching Sub set of Rand Num is: [5 5]\n"
     ]
    }
   ],
   "source": [
    "# Boolean Indexing \n",
    "#-------------------------------\n",
    "# Create an Array of names \n",
    "Arr_Names = array(['Bob', 'Joe', 'Will', 'Bob', 'Will', 'Joe', 'Joe'])\n",
    "\n",
    "\n",
    "# Get Array size\n",
    "Arrsize = Arr_Names.shape\n",
    "print(Arrsize)\n",
    "Len1 = Arrsize[0]\n",
    "\n",
    "\n",
    "# Create a  Vector of random numbers of the same length\n",
    "# Init a  Vector of size = Len1 \n",
    "Rand_Set = array(arange(Len1))\n",
    "print(Rand_Set)\n",
    "\n",
    "\n",
    "# Populate Vector with Random nos from 1 to 10 \n",
    "for i in range(Len1):\n",
    "    Rand_Set[i-1] = random.uniform(1,10)\n",
    "    \n",
    "# Display Rand Vector\n",
    "print(\"Rand Vector\",Rand_Set)\n",
    "\n",
    "\n",
    "# Get Those Index positions for which name = Bob \n",
    "# Use the index set to choose a sub set of Random Numbers \n",
    "Match_name_rand = Rand_Set[Arr_Names == 'Bob']\n",
    "print(\"Matching Sub set of Rand Num is:\",Match_name_rand)"
   ]
  },
  {
   "cell_type": "markdown",
   "metadata": {},
   "source": [
    "### Array  Operations "
   ]
  },
  {
   "cell_type": "code",
   "execution_count": 15,
   "metadata": {},
   "outputs": [
    {
     "ename": "NameError",
     "evalue": "name 'Array1' is not defined",
     "output_type": "error",
     "traceback": [
      "\u001b[1;31m---------------------------------------------------------------------------\u001b[0m",
      "\u001b[1;31mNameError\u001b[0m                                 Traceback (most recent call last)",
      "\u001b[1;32m<ipython-input-15-02543eb939e6>\u001b[0m in \u001b[0;36m<module>\u001b[1;34m\u001b[0m\n\u001b[0;32m      2\u001b[0m \u001b[1;31m# define a 3 by 4 aryray\u001b[0m\u001b[1;33m\u001b[0m\u001b[1;33m\u001b[0m\u001b[1;33m\u001b[0m\u001b[0m\n\u001b[0;32m      3\u001b[0m \u001b[0mArra1\u001b[0m \u001b[1;33m=\u001b[0m \u001b[0marray\u001b[0m\u001b[1;33m(\u001b[0m\u001b[1;33m[\u001b[0m\u001b[1;33m[\u001b[0m\u001b[1;36m1\u001b[0m\u001b[1;33m,\u001b[0m\u001b[1;36m2\u001b[0m\u001b[1;33m,\u001b[0m\u001b[1;36m3\u001b[0m\u001b[1;33m,\u001b[0m\u001b[1;36m4\u001b[0m\u001b[1;33m]\u001b[0m\u001b[1;33m,\u001b[0m\u001b[1;33m[\u001b[0m\u001b[1;36m5\u001b[0m\u001b[1;33m,\u001b[0m\u001b[1;36m6\u001b[0m\u001b[1;33m,\u001b[0m\u001b[1;36m7\u001b[0m\u001b[1;33m,\u001b[0m\u001b[1;36m8\u001b[0m\u001b[1;33m]\u001b[0m\u001b[1;33m,\u001b[0m\u001b[1;33m[\u001b[0m\u001b[1;36m9\u001b[0m\u001b[1;33m,\u001b[0m\u001b[1;36m10\u001b[0m\u001b[1;33m,\u001b[0m\u001b[1;36m11\u001b[0m\u001b[1;33m,\u001b[0m\u001b[1;36m12\u001b[0m\u001b[1;33m]\u001b[0m\u001b[1;33m]\u001b[0m\u001b[1;33m)\u001b[0m\u001b[1;33m\u001b[0m\u001b[1;33m\u001b[0m\u001b[0m\n\u001b[1;32m----> 4\u001b[1;33m \u001b[0mprint\u001b[0m\u001b[1;33m(\u001b[0m\u001b[1;34m\"Original Array is \"\u001b[0m\u001b[1;33m,\u001b[0m \u001b[0mArray1\u001b[0m\u001b[1;33m)\u001b[0m\u001b[1;33m\u001b[0m\u001b[1;33m\u001b[0m\u001b[0m\n\u001b[0m\u001b[0;32m      5\u001b[0m \u001b[0mArray_Slice1\u001b[0m \u001b[1;33m=\u001b[0m \u001b[0mArray1\u001b[0m\u001b[1;33m[\u001b[0m\u001b[1;36m2\u001b[0m\u001b[1;33m,\u001b[0m\u001b[1;33m:\u001b[0m\u001b[1;36m2\u001b[0m\u001b[1;33m]\u001b[0m\u001b[1;33m\u001b[0m\u001b[1;33m\u001b[0m\u001b[0m\n\u001b[0;32m      6\u001b[0m \u001b[0mprint\u001b[0m\u001b[1;33m(\u001b[0m\u001b[1;34m\"Sliced Array is : \"\u001b[0m\u001b[1;33m,\u001b[0m\u001b[0mArray_Slice1\u001b[0m\u001b[1;33m)\u001b[0m\u001b[1;33m\u001b[0m\u001b[1;33m\u001b[0m\u001b[0m\n",
      "\u001b[1;31mNameError\u001b[0m: name 'Array1' is not defined"
     ]
    }
   ],
   "source": [
    "# Slicing multi dimensional Arrays \n",
    "# define a 3 by 4 aryray \n",
    "Arra1 = array([[1,2,3,4],[5,6,7,8],[9,10,11,12]])\n",
    "print(\"Original Array is \", Array1)\n",
    "Array_Slice1 = Array1[2,:2]\n",
    "print(\"Sliced Array is : \",Array_Slice1)\n"
   ]
  },
  {
   "cell_type": "code",
   "execution_count": 20,
   "metadata": {},
   "outputs": [
    {
     "name": "stdout",
     "output_type": "stream",
     "text": [
      "('Sqrt Root values:', array([0.        , 1.        , 1.41421356, 1.73205081, 2.        ,\n",
      "       2.23606798, 2.44948974, 2.64575131, 2.82842712, 3.        ]))\n"
     ]
    }
   ],
   "source": [
    "#-------------\n",
    "# Square Root \n",
    "#-------------\n",
    "from numpy import *\n",
    "Arr = arange(10)\n",
    "\n",
    "Sqrt_Arr = sqrt(Arr)\n",
    "print(\"Sqrt Root values:\", Sqrt_Arr )"
   ]
  },
  {
   "cell_type": "code",
   "execution_count": 16,
   "metadata": {},
   "outputs": [
    {
     "name": "stdout",
     "output_type": "stream",
     "text": [
      "X Array is : [ 0.18047597 -0.29672724 -0.73410571 -0.46122368  1.25151955  0.30908342\n",
      " -1.2642701  -0.91718602 -0.16388386 -0.0611259 ]\n",
      "Y Array is : [ 0.72725692  0.20712679  1.04726195  1.2396933   0.1999364   0.23494344\n",
      "  0.74349741 -0.88537946  0.37770823  0.62837363]\n",
      "The Max element wise is : [ 0.72725692  0.20712679  1.04726195  1.2396933   1.25151955  0.30908342\n",
      "  0.74349741 -0.88537946  0.37770823  0.62837363]\n"
     ]
    }
   ],
   "source": [
    "#--------------------------\n",
    "# Binary Function example \n",
    "#---------------------------\n",
    "\n",
    "# Create Two Arrays of 10 random numbers each \n",
    "x = random.randn(10)\n",
    "y = random.randn(10)\n",
    "# Print  both the arrays \n",
    "print(\"X Array is :\", x)\n",
    "print(\"Y Array is :\", y)\n",
    "# Get the Element wise max, comparing both arrays \n",
    "Max_XY = maximum(x,y)\n",
    "print(\"The Max element wise is :\", Max_XY)"
   ]
  },
  {
   "cell_type": "code",
   "execution_count": 5,
   "metadata": {},
   "outputs": [
    {
     "name": "stdout",
     "output_type": "stream",
     "text": [
      "Choice:  [1, 20, 3, 40, 5]\n"
     ]
    }
   ],
   "source": [
    " # Conditional logic as Array Operators\n",
    "# ---\n",
    "# Define Boolean Array \n",
    "Bool_Arr = array([True,False,True,False,True])\n",
    "X_Arr = array([1,2,3,4,5])\n",
    "Y_Arr = array([10,20,30,40,50])\n",
    "\n",
    "Choice = [(X if Z else Y) for X,Y,Z in zip(X_Arr,Y_Arr,Bool_Arr)]\n",
    "print(\"Choice: \",Choice)"
   ]
  },
  {
   "cell_type": "code",
   "execution_count": 8,
   "metadata": {},
   "outputs": [
    {
     "name": "stdout",
     "output_type": "stream",
     "text": [
      "original  Array is :  [[ 0.54330632 -1.14091362 -0.83610272]\n",
      " [-0.62989323  0.60257759  0.20026933]\n",
      " [-1.12525732 -0.04051806  1.53950724]]\n",
      "Chg Array is :  [[ 2 -2 -2]\n",
      " [-2  2  2]\n",
      " [-2 -2  2]]\n"
     ]
    }
   ],
   "source": [
    "#---------------------------------\n",
    "# The where clause in arrays \n",
    "#---------------------------------\n",
    "# Create a 3x3 array of random numbers \n",
    "Arr3 = random.randn(3,3)\n",
    "print(\"original  Array is : \", Arr3)\n",
    "# Replace pos numbers with +2 and _ve nos with -2 \n",
    "Arr3_Chg = where(Arr3 > 0, 2, -2)\n",
    "# Print changed Array \n",
    "print(\"Chg Array is : \", Arr3_Chg)"
   ]
  },
  {
   "cell_type": "markdown",
   "metadata": {},
   "source": [
    "###  Basic Statistical functions "
   ]
  },
  {
   "cell_type": "code",
   "execution_count": 23,
   "metadata": {},
   "outputs": [
    {
     "name": "stdout",
     "output_type": "stream",
     "text": [
      "('Mean of Array is: ', 5.0)\n"
     ]
    }
   ],
   "source": [
    "Arr_Stat = array([[1,2,3],[4,5,6],[7,8,9]])\n",
    "# Mean\n",
    "Arr_Mean = mean(Arr_Stat) \n",
    "print(\"Mean of Array is: \",Arr_Mean)"
   ]
  },
  {
   "cell_type": "code",
   "execution_count": 10,
   "metadata": {},
   "outputs": [
    {
     "name": "stdout",
     "output_type": "stream",
     "text": [
      "Sum of Array is: 45\n"
     ]
    }
   ],
   "source": [
    "# Sum \n",
    "Arr_Sum = sum(Arr_Stat)\n",
    "print(\"Sum of Array is:\",Arr_Sum)"
   ]
  },
  {
   "cell_type": "code",
   "execution_count": 6,
   "metadata": {},
   "outputs": [
    {
     "ename": "NameError",
     "evalue": "name 'Arr_Stat' is not defined",
     "output_type": "error",
     "traceback": [
      "\u001b[1;31m---------------------------------------------------------------------------\u001b[0m",
      "\u001b[1;31mNameError\u001b[0m                                 Traceback (most recent call last)",
      "\u001b[1;32m<ipython-input-6-7713c9ec4f2a>\u001b[0m in \u001b[0;36m<module>\u001b[1;34m\u001b[0m\n\u001b[0;32m      1\u001b[0m \u001b[1;31m# Get Column means (0th dimension or axis )\u001b[0m\u001b[1;33m\u001b[0m\u001b[1;33m\u001b[0m\u001b[1;33m\u001b[0m\u001b[0m\n\u001b[1;32m----> 2\u001b[1;33m \u001b[0mArr_Mean_Cols\u001b[0m \u001b[1;33m=\u001b[0m \u001b[0mArr_Stat\u001b[0m\u001b[1;33m.\u001b[0m\u001b[0mmean\u001b[0m\u001b[1;33m(\u001b[0m\u001b[1;36m1\u001b[0m\u001b[1;33m)\u001b[0m\u001b[1;33m\u001b[0m\u001b[1;33m\u001b[0m\u001b[0m\n\u001b[0m\u001b[0;32m      3\u001b[0m \u001b[0mprint\u001b[0m\u001b[1;33m(\u001b[0m\u001b[1;34m\"Col_Means = :\"\u001b[0m\u001b[1;33m,\u001b[0m \u001b[0mArr_Mean_Cols\u001b[0m\u001b[1;33m)\u001b[0m\u001b[1;33m\u001b[0m\u001b[1;33m\u001b[0m\u001b[0m\n",
      "\u001b[1;31mNameError\u001b[0m: name 'Arr_Stat' is not defined"
     ]
    }
   ],
   "source": [
    "\n",
    "# Get Column means (0th dimension or axis )\n",
    "Arr_Mean_Cols = Arr_Stat.mean(1)\n",
    "print(\"Col_Means = :\", Arr_Mean_Cols)\n"
   ]
  },
  {
   "cell_type": "markdown",
   "metadata": {},
   "source": [
    "### Misc  Array operations "
   ]
  },
  {
   "cell_type": "code",
   "execution_count": 12,
   "metadata": {},
   "outputs": [
    {
     "name": "stdout",
     "output_type": "stream",
     "text": [
      "Unsorted Array is  [10  2 34  5]\n",
      "Sorted Array is  [2, 5, 10, 34]\n"
     ]
    }
   ],
   "source": [
    "#--------------------------------------------\n",
    "#   Sorting \n",
    "#--------------------------------------------\n",
    "Arr4 = array([10,2,34,5])\n",
    "Arr4_Sorted = sorted(Arr4) \n",
    "print(\"Unsorted Array is \",Arr4)\n",
    "print(\"Sorted Array is \",Arr4_Sorted)\n"
   ]
  },
  {
   "cell_type": "code",
   "execution_count": 13,
   "metadata": {},
   "outputs": [
    {
     "name": "stdout",
     "output_type": "stream",
     "text": [
      "Unique Names are  ['Bob' 'Jeet' 'Jim' 'Joy' 'Kumar' 'Rajesh' 'Roy']\n"
     ]
    }
   ],
   "source": [
    "#-------------------------------------------------\n",
    "#  Unique  and other Array set operations \n",
    "#-------------------------------------------------\n",
    "# Create a Names Array \n",
    "Names_Arr = array([\"Jim\",\"Bob\",\"Roy\",\"Rajesh\",\"Roy\",\"Kumar\",\"Jeet\",\"Roy\",\"Joy\"])\n",
    "# Get Unique Names \n",
    "Names_Arr_Unq = unique(Names_Arr)\n",
    "print(\"Unique Names are \",Names_Arr_Unq)"
   ]
  },
  {
   "cell_type": "code",
   "execution_count": 13,
   "metadata": {},
   "outputs": [
    {
     "name": "stdout",
     "output_type": "stream",
     "text": [
      "[[-0.58906782  1.21072617 -0.58580262 -1.61404723]\n",
      " [-2.39573753  2.04448371 -0.41071325 -0.34122773]\n",
      " [-0.90818305 -1.90361054  0.40780977  1.11485284]\n",
      " [ 0.17726034 -0.07924735  0.37294077  0.27402852]]\n"
     ]
    }
   ],
   "source": [
    "# Generate a 4 by 4  Array of random numbers following \n",
    "# Normal distribution \n",
    "#------------------------------------------------------\n",
    "Arr4by4 = random.normal(size=(4,4))\n",
    "print(Arr4by4)"
   ]
  },
  {
   "cell_type": "markdown",
   "metadata": {},
   "source": [
    "### End of Module 4 - Numpy"
   ]
  }
 ],
 "metadata": {
  "kernelspec": {
   "display_name": "Python 3",
   "language": "python",
   "name": "python3"
  },
  "language_info": {
   "codemirror_mode": {
    "name": "ipython",
    "version": 3
   },
   "file_extension": ".py",
   "mimetype": "text/x-python",
   "name": "python",
   "nbconvert_exporter": "python",
   "pygments_lexer": "ipython3",
   "version": "3.7.3"
  }
 },
 "nbformat": 4,
 "nbformat_minor": 2
}
