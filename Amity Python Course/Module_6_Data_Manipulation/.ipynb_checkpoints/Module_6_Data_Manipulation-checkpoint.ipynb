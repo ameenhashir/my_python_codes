{
 "cells": [
  {
   "cell_type": "markdown",
   "metadata": {},
   "source": [
    "#  MODULE 6:  Data Manipulation\n",
    "\n"
   ]
  },
  {
   "cell_type": "markdown",
   "metadata": {},
   "source": [
    "## Merging"
   ]
  },
  {
   "cell_type": "code",
   "execution_count": 1,
   "metadata": {},
   "outputs": [],
   "source": [
    "from pandas import *\n",
    "from numpy import *\n",
    "from scipy import *\n",
    "import re "
   ]
  },
  {
   "cell_type": "code",
   "execution_count": 2,
   "metadata": {},
   "outputs": [
    {
     "name": "stdout",
     "output_type": "stream",
     "text": [
      "  key  data1\n",
      "0   b      0\n",
      "1   b      1\n",
      "2   a      2\n",
      "3   c      3\n",
      "4   a      4\n",
      "5   a      5\n",
      "6   b      6\n",
      "  key  data2\n",
      "0   a      0\n",
      "1   b      1\n",
      "2   d      2\n",
      "3   a      3\n"
     ]
    }
   ],
   "source": [
    "# Data Set Merging With one or more keys : Def is Inner Join \n",
    "#---------------------------------------------=------------------------\n",
    "# create DF1\n",
    "\n",
    "df1 = DataFrame({'key': ['b', 'b', 'a', 'c', 'a', 'a', 'b'],\n",
    "     'data1': range(7)})\n",
    "print(df1)\n",
    "\n",
    "# Create DF2\n",
    "df2 = DataFrame({'key': ['a', 'b', 'd','a'],\n",
    "     'data2': range(4)})\n",
    "\n",
    "print(df2)\n"
   ]
  },
  {
   "cell_type": "code",
   "execution_count": 3,
   "metadata": {},
   "outputs": [
    {
     "data": {
      "text/html": [
       "<div>\n",
       "<style scoped>\n",
       "    .dataframe tbody tr th:only-of-type {\n",
       "        vertical-align: middle;\n",
       "    }\n",
       "\n",
       "    .dataframe tbody tr th {\n",
       "        vertical-align: top;\n",
       "    }\n",
       "\n",
       "    .dataframe thead th {\n",
       "        text-align: right;\n",
       "    }\n",
       "</style>\n",
       "<table border=\"1\" class=\"dataframe\">\n",
       "  <thead>\n",
       "    <tr style=\"text-align: right;\">\n",
       "      <th></th>\n",
       "      <th>key</th>\n",
       "      <th>data1</th>\n",
       "      <th>data2</th>\n",
       "    </tr>\n",
       "  </thead>\n",
       "  <tbody>\n",
       "    <tr>\n",
       "      <th>0</th>\n",
       "      <td>b</td>\n",
       "      <td>0</td>\n",
       "      <td>1</td>\n",
       "    </tr>\n",
       "    <tr>\n",
       "      <th>1</th>\n",
       "      <td>b</td>\n",
       "      <td>1</td>\n",
       "      <td>1</td>\n",
       "    </tr>\n",
       "    <tr>\n",
       "      <th>2</th>\n",
       "      <td>b</td>\n",
       "      <td>6</td>\n",
       "      <td>1</td>\n",
       "    </tr>\n",
       "    <tr>\n",
       "      <th>3</th>\n",
       "      <td>a</td>\n",
       "      <td>2</td>\n",
       "      <td>0</td>\n",
       "    </tr>\n",
       "    <tr>\n",
       "      <th>4</th>\n",
       "      <td>a</td>\n",
       "      <td>2</td>\n",
       "      <td>3</td>\n",
       "    </tr>\n",
       "    <tr>\n",
       "      <th>5</th>\n",
       "      <td>a</td>\n",
       "      <td>4</td>\n",
       "      <td>0</td>\n",
       "    </tr>\n",
       "    <tr>\n",
       "      <th>6</th>\n",
       "      <td>a</td>\n",
       "      <td>4</td>\n",
       "      <td>3</td>\n",
       "    </tr>\n",
       "    <tr>\n",
       "      <th>7</th>\n",
       "      <td>a</td>\n",
       "      <td>5</td>\n",
       "      <td>0</td>\n",
       "    </tr>\n",
       "    <tr>\n",
       "      <th>8</th>\n",
       "      <td>a</td>\n",
       "      <td>5</td>\n",
       "      <td>3</td>\n",
       "    </tr>\n",
       "  </tbody>\n",
       "</table>\n",
       "</div>"
      ],
      "text/plain": [
       "  key  data1  data2\n",
       "0   b      0      1\n",
       "1   b      1      1\n",
       "2   b      6      1\n",
       "3   a      2      0\n",
       "4   a      2      3\n",
       "5   a      4      0\n",
       "6   a      4      3\n",
       "7   a      5      0\n",
       "8   a      5      3"
      ]
     },
     "execution_count": 3,
     "metadata": {},
     "output_type": "execute_result"
    }
   ],
   "source": [
    "# Many to Many Merge \n",
    "merged_df = merge(df1,df2,on='key') \n",
    "merged_df"
   ]
  },
  {
   "cell_type": "code",
   "execution_count": 5,
   "metadata": {
    "scrolled": true
   },
   "outputs": [
    {
     "name": "stdout",
     "output_type": "stream",
     "text": [
      "  Leftkey  data1\n",
      "0       b      0\n",
      "1       b      1\n",
      "2       a      2\n",
      "3       c      3\n",
      "4       a      4\n",
      "5       a      5\n",
      "6       b      6\n",
      "  Rightkey  data2\n",
      "0        a      0\n",
      "1        b      1\n",
      "2        d      2\n",
      "3        a      3\n"
     ]
    },
    {
     "data": {
      "text/html": [
       "<div>\n",
       "<style scoped>\n",
       "    .dataframe tbody tr th:only-of-type {\n",
       "        vertical-align: middle;\n",
       "    }\n",
       "\n",
       "    .dataframe tbody tr th {\n",
       "        vertical-align: top;\n",
       "    }\n",
       "\n",
       "    .dataframe thead th {\n",
       "        text-align: right;\n",
       "    }\n",
       "</style>\n",
       "<table border=\"1\" class=\"dataframe\">\n",
       "  <thead>\n",
       "    <tr style=\"text-align: right;\">\n",
       "      <th></th>\n",
       "      <th>Leftkey</th>\n",
       "      <th>data1</th>\n",
       "      <th>Rightkey</th>\n",
       "      <th>data2</th>\n",
       "    </tr>\n",
       "  </thead>\n",
       "  <tbody>\n",
       "    <tr>\n",
       "      <th>0</th>\n",
       "      <td>b</td>\n",
       "      <td>0</td>\n",
       "      <td>b</td>\n",
       "      <td>1</td>\n",
       "    </tr>\n",
       "    <tr>\n",
       "      <th>1</th>\n",
       "      <td>b</td>\n",
       "      <td>1</td>\n",
       "      <td>b</td>\n",
       "      <td>1</td>\n",
       "    </tr>\n",
       "    <tr>\n",
       "      <th>2</th>\n",
       "      <td>b</td>\n",
       "      <td>6</td>\n",
       "      <td>b</td>\n",
       "      <td>1</td>\n",
       "    </tr>\n",
       "    <tr>\n",
       "      <th>3</th>\n",
       "      <td>a</td>\n",
       "      <td>2</td>\n",
       "      <td>a</td>\n",
       "      <td>0</td>\n",
       "    </tr>\n",
       "    <tr>\n",
       "      <th>4</th>\n",
       "      <td>a</td>\n",
       "      <td>2</td>\n",
       "      <td>a</td>\n",
       "      <td>3</td>\n",
       "    </tr>\n",
       "    <tr>\n",
       "      <th>5</th>\n",
       "      <td>a</td>\n",
       "      <td>4</td>\n",
       "      <td>a</td>\n",
       "      <td>0</td>\n",
       "    </tr>\n",
       "    <tr>\n",
       "      <th>6</th>\n",
       "      <td>a</td>\n",
       "      <td>4</td>\n",
       "      <td>a</td>\n",
       "      <td>3</td>\n",
       "    </tr>\n",
       "    <tr>\n",
       "      <th>7</th>\n",
       "      <td>a</td>\n",
       "      <td>5</td>\n",
       "      <td>a</td>\n",
       "      <td>0</td>\n",
       "    </tr>\n",
       "    <tr>\n",
       "      <th>8</th>\n",
       "      <td>a</td>\n",
       "      <td>5</td>\n",
       "      <td>a</td>\n",
       "      <td>3</td>\n",
       "    </tr>\n",
       "  </tbody>\n",
       "</table>\n",
       "</div>"
      ],
      "text/plain": [
       "  Leftkey  data1 Rightkey  data2\n",
       "0       b      0        b      1\n",
       "1       b      1        b      1\n",
       "2       b      6        b      1\n",
       "3       a      2        a      0\n",
       "4       a      2        a      3\n",
       "5       a      4        a      0\n",
       "6       a      4        a      3\n",
       "7       a      5        a      0\n",
       "8       a      5        a      3"
      ]
     },
     "execution_count": 5,
     "metadata": {},
     "output_type": "execute_result"
    }
   ],
   "source": [
    "# Key Col names are different : def is inner Join \n",
    "#-----------------------------------------------------\n",
    "df3 = DataFrame({'Leftkey': ['b', 'b', 'a', 'c', 'a', 'a', 'b'],\n",
    "     'data1': range(7)})\n",
    "print(df3)\n",
    "\n",
    "# Create DF2\n",
    "df4 = DataFrame({'Rightkey': ['a', 'b', 'd','a'],\n",
    "     'data2': range(4)})\n",
    "print(df4)\n",
    "\n",
    "merged_dfnew = merge(df3,df4,left_on='Leftkey',right_on ='Rightkey') \n",
    "\n",
    "merged_dfnew"
   ]
  },
  {
   "cell_type": "code",
   "execution_count": 6,
   "metadata": {},
   "outputs": [
    {
     "data": {
      "text/html": [
       "<div>\n",
       "<style scoped>\n",
       "    .dataframe tbody tr th:only-of-type {\n",
       "        vertical-align: middle;\n",
       "    }\n",
       "\n",
       "    .dataframe tbody tr th {\n",
       "        vertical-align: top;\n",
       "    }\n",
       "\n",
       "    .dataframe thead th {\n",
       "        text-align: right;\n",
       "    }\n",
       "</style>\n",
       "<table border=\"1\" class=\"dataframe\">\n",
       "  <thead>\n",
       "    <tr style=\"text-align: right;\">\n",
       "      <th></th>\n",
       "      <th>key</th>\n",
       "      <th>data1</th>\n",
       "      <th>data2</th>\n",
       "    </tr>\n",
       "  </thead>\n",
       "  <tbody>\n",
       "    <tr>\n",
       "      <th>0</th>\n",
       "      <td>b</td>\n",
       "      <td>0.0</td>\n",
       "      <td>1.0</td>\n",
       "    </tr>\n",
       "    <tr>\n",
       "      <th>1</th>\n",
       "      <td>b</td>\n",
       "      <td>1.0</td>\n",
       "      <td>1.0</td>\n",
       "    </tr>\n",
       "    <tr>\n",
       "      <th>2</th>\n",
       "      <td>b</td>\n",
       "      <td>6.0</td>\n",
       "      <td>1.0</td>\n",
       "    </tr>\n",
       "    <tr>\n",
       "      <th>3</th>\n",
       "      <td>a</td>\n",
       "      <td>2.0</td>\n",
       "      <td>0.0</td>\n",
       "    </tr>\n",
       "    <tr>\n",
       "      <th>4</th>\n",
       "      <td>a</td>\n",
       "      <td>2.0</td>\n",
       "      <td>3.0</td>\n",
       "    </tr>\n",
       "    <tr>\n",
       "      <th>5</th>\n",
       "      <td>a</td>\n",
       "      <td>4.0</td>\n",
       "      <td>0.0</td>\n",
       "    </tr>\n",
       "    <tr>\n",
       "      <th>6</th>\n",
       "      <td>a</td>\n",
       "      <td>4.0</td>\n",
       "      <td>3.0</td>\n",
       "    </tr>\n",
       "    <tr>\n",
       "      <th>7</th>\n",
       "      <td>a</td>\n",
       "      <td>5.0</td>\n",
       "      <td>0.0</td>\n",
       "    </tr>\n",
       "    <tr>\n",
       "      <th>8</th>\n",
       "      <td>a</td>\n",
       "      <td>5.0</td>\n",
       "      <td>3.0</td>\n",
       "    </tr>\n",
       "    <tr>\n",
       "      <th>9</th>\n",
       "      <td>c</td>\n",
       "      <td>3.0</td>\n",
       "      <td>NaN</td>\n",
       "    </tr>\n",
       "    <tr>\n",
       "      <th>10</th>\n",
       "      <td>d</td>\n",
       "      <td>NaN</td>\n",
       "      <td>2.0</td>\n",
       "    </tr>\n",
       "  </tbody>\n",
       "</table>\n",
       "</div>"
      ],
      "text/plain": [
       "   key  data1  data2\n",
       "0    b    0.0    1.0\n",
       "1    b    1.0    1.0\n",
       "2    b    6.0    1.0\n",
       "3    a    2.0    0.0\n",
       "4    a    2.0    3.0\n",
       "5    a    4.0    0.0\n",
       "6    a    4.0    3.0\n",
       "7    a    5.0    0.0\n",
       "8    a    5.0    3.0\n",
       "9    c    3.0    NaN\n",
       "10   d    NaN    2.0"
      ]
     },
     "execution_count": 6,
     "metadata": {},
     "output_type": "execute_result"
    }
   ],
   "source": [
    "# Outer Join example \n",
    "#-------------------------------------------------------------------------\n",
    "\n",
    "merged_Outer = merge(df1,df2,how='outer')\n",
    "merged_Outer"
   ]
  },
  {
   "cell_type": "code",
   "execution_count": 7,
   "metadata": {},
   "outputs": [
    {
     "name": "stdout",
     "output_type": "stream",
     "text": [
      "  key  value\n",
      "0   a      0\n",
      "1   b      1\n",
      "2   a      2\n",
      "3   a      3\n",
      "4   b      4\n",
      "5   c      5\n",
      "   group_val\n",
      "a        3.5\n",
      "b        7.0\n",
      "  key  value  group_val\n",
      "0   a      0        3.5\n",
      "2   a      2        3.5\n",
      "3   a      3        3.5\n",
      "1   b      1        7.0\n",
      "4   b      4        7.0\n"
     ]
    }
   ],
   "source": [
    "#----------------------------------------------------------------------------\n",
    "# Merge in Index\n",
    "#--------------------------------------------------------------------------\n",
    "LeftDF= DataFrame({'key': ['a', 'b', 'a', 'a', 'b', 'c'],\n",
    " 'value': range(6)})\n",
    "print(LeftDF)\n",
    "\n",
    "\n",
    "RightDF = DataFrame({'group_val': [3.5, 7]}, index=['a', 'b'])\n",
    "print(RightDF)\n",
    "\n",
    "Merged_Ind = merge(LeftDF,RightDF,left_on='key', right_index=True)\n",
    "print(Merged_Ind)"
   ]
  },
  {
   "cell_type": "markdown",
   "metadata": {},
   "source": [
    "### Concatenation "
   ]
  },
  {
   "cell_type": "code",
   "execution_count": null,
   "metadata": {},
   "outputs": [],
   "source": [
    "#---------------------------------------------------------------------------\n",
    "#  Concat Array side by side with alternate axis \n",
    "#------------------------------------\n",
    "Arr1 = np.arange(12).reshape((3, 4))\n",
    "Arr_Stack = concatenate([Arr1, Arr1], axis=1)\n",
    "Arr_Stack"
   ]
  },
  {
   "cell_type": "code",
   "execution_count": null,
   "metadata": {},
   "outputs": [],
   "source": [
    "#----------------------------------------------------------------------\n",
    "#  Concat Series : default is Axis = 0 \n",
    "#---------------------------------------------------------------------\n",
    "S1 = Series([0, 1], index=['a', 'b'])\n",
    "S2 = Series([3, 4], index=['c', 'd'])\n",
    "S3 = Series([5, 9], index=['e', 'f'])\n",
    "\n",
    "Merged_Ser = concat([S1, S2, S3])\n",
    "Merged_Ser "
   ]
  },
  {
   "cell_type": "code",
   "execution_count": null,
   "metadata": {},
   "outputs": [],
   "source": [
    "#  Concat Series : Axis = 1  Will convert to Dataframe \n",
    "#--------------------------------------------------------------------\n",
    "Merged_Axis1 = concat([S1, S2, S3], axis=1)\n",
    "Merged_Axis1\n"
   ]
  },
  {
   "cell_type": "markdown",
   "metadata": {},
   "source": [
    "### Removing Duplicates "
   ]
  },
  {
   "cell_type": "code",
   "execution_count": null,
   "metadata": {},
   "outputs": [],
   "source": [
    "# Create DF with Dups\n",
    "\n",
    "DupDF = DataFrame({'k1': ['one'] * 3 + ['two'] * 4,\n",
    "                  'k2': [1, 1, 2, 3, 3, 4, 4]})\n",
    "\n",
    "DupDF\n",
    "\n",
    "# Check if Each row is duplicated row or not \n",
    "DupDF.duplicated()\n",
    "\n",
    "# Remove Duplicate Rows \n",
    "NoDup = DupDF.drop_duplicates()\n",
    "NoDup"
   ]
  },
  {
   "cell_type": "code",
   "execution_count": null,
   "metadata": {},
   "outputs": [],
   "source": [
    "# Create Additional Column \n",
    "DupDF['NewCOl'] = range(7)\n",
    "DupDF\n",
    "\n",
    "# Now Drop duplicates based on values in first col only \n",
    "NoDup1 = DupDF.drop_duplicates(['k1'])\n",
    "NoDup1"
   ]
  },
  {
   "cell_type": "code",
   "execution_count": null,
   "metadata": {},
   "outputs": [],
   "source": [
    "#  Replace missing values \n",
    "DF1data = Series([1., -999., 2., -999., -1000., 3.])\n",
    "DF1data\n",
    "\n",
    "\n",
    "# Replace -999  with NA's \n",
    "DF2data = DF1data.replace(-999, np.nan)\n",
    "DF2data"
   ]
  },
  {
   "cell_type": "markdown",
   "metadata": {},
   "source": [
    "### Discretization and Binning "
   ]
  },
  {
   "cell_type": "code",
   "execution_count": 8,
   "metadata": {},
   "outputs": [
    {
     "data": {
      "text/plain": [
       "pandas.core.arrays.categorical.Categorical"
      ]
     },
     "execution_count": 8,
     "metadata": {},
     "output_type": "execute_result"
    }
   ],
   "source": [
    "# Create Input Set \n",
    "Ser1 = [20, 22, 25, 27, 21, 23, 37, 31, 61, 45, 41, 32]\n",
    "# Define bin ranges  \n",
    "Ser1_bins = [18,25,35,65,100]\n",
    "\n",
    "# Allocate data to bins \n",
    "Ser1_Binned = cut(Ser1,Ser1_bins)\n",
    "\n",
    "# Check data type : will be categorical \n",
    "type(Ser1_Binned)"
   ]
  },
  {
   "cell_type": "code",
   "execution_count": null,
   "metadata": {},
   "outputs": [],
   "source": [
    "# Generate Frequency table : Type is Series \n",
    "Ser1_freq = value_counts(Ser1_Binned)\n",
    "Ser1_ind = Ser1_freq.index\n",
    "\n",
    "# Create Data frame with Freq Table Information \n",
    "Freq_Table_DF = DataFrame({'Bin':Ser1_freq.index, 'Count':Ser1_freq.values})\n",
    "Freq_Table_DF"
   ]
  },
  {
   "cell_type": "code",
   "execution_count": 9,
   "metadata": {},
   "outputs": [
    {
     "data": {
      "text/html": [
       "<div>\n",
       "<style scoped>\n",
       "    .dataframe tbody tr th:only-of-type {\n",
       "        vertical-align: middle;\n",
       "    }\n",
       "\n",
       "    .dataframe tbody tr th {\n",
       "        vertical-align: top;\n",
       "    }\n",
       "\n",
       "    .dataframe thead th {\n",
       "        text-align: right;\n",
       "    }\n",
       "</style>\n",
       "<table border=\"1\" class=\"dataframe\">\n",
       "  <thead>\n",
       "    <tr style=\"text-align: right;\">\n",
       "      <th></th>\n",
       "      <th>Bin</th>\n",
       "      <th>Count</th>\n",
       "    </tr>\n",
       "  </thead>\n",
       "  <tbody>\n",
       "    <tr>\n",
       "      <th>0</th>\n",
       "      <td>Youth</td>\n",
       "      <td>5</td>\n",
       "    </tr>\n",
       "    <tr>\n",
       "      <th>1</th>\n",
       "      <td>Middle Age</td>\n",
       "      <td>4</td>\n",
       "    </tr>\n",
       "    <tr>\n",
       "      <th>2</th>\n",
       "      <td>Young Adult</td>\n",
       "      <td>3</td>\n",
       "    </tr>\n",
       "    <tr>\n",
       "      <th>3</th>\n",
       "      <td>Senior Citizen</td>\n",
       "      <td>0</td>\n",
       "    </tr>\n",
       "  </tbody>\n",
       "</table>\n",
       "</div>"
      ],
      "text/plain": [
       "              Bin  Count\n",
       "0           Youth      5\n",
       "1      Middle Age      4\n",
       "2     Young Adult      3\n",
       "3  Senior Citizen      0"
      ]
     },
     "execution_count": 9,
     "metadata": {},
     "output_type": "execute_result"
    }
   ],
   "source": [
    "# Change Bin Names to meaningful ones \n",
    "bin_names = ['Youth', 'Young Adult', 'Middle Age', 'Senior Citizen']\n",
    "Ser2_Binned = cut(Ser1,Ser1_bins,labels= bin_names)\n",
    "Ser2_freq = value_counts(Ser2_Binned)\n",
    "Ser2_ind = Ser2_freq.index\n",
    "Freq_Table_DF_Named = DataFrame({'Bin':Ser2_freq.index, 'Count':Ser2_freq.values})\n",
    "# Display \n",
    "Freq_Table_DF_Named "
   ]
  },
  {
   "cell_type": "markdown",
   "metadata": {},
   "source": [
    "### Outlier handling "
   ]
  },
  {
   "cell_type": "code",
   "execution_count": null,
   "metadata": {},
   "outputs": [],
   "source": [
    "# Set Seed\n",
    "random.seed(123) \n",
    "# Create a Dataframe of dimension 4 COlumns having 1000 rows of random values each \n",
    "DF1 = DataFrame(random.randn(1000,4))\n",
    "DF1\n",
    "\n",
    "# Capture all rows which  has abs value greater than 3 \n",
    "DF1_GT3 = DF1[(abs(DF1)>3).any(1)]\n",
    "DF1_GT3"
   ]
  },
  {
   "cell_type": "markdown",
   "metadata": {},
   "source": [
    "### Permutation and Random sampling "
   ]
  },
  {
   "cell_type": "code",
   "execution_count": null,
   "metadata": {},
   "outputs": [],
   "source": [
    "#Create a  data Frame -  5 Rows For Columns \n",
    "DF1 = DataFrame(arange(5*4).reshape(5,4))\n",
    "DF1\n",
    "# Create a Random Permutation of Row Length \n",
    "Sequence1 = random.permutation(5)\n",
    "Sequence1\n",
    "#  Change DataFrame Row Positions per sequence\n",
    "DF2 = DF1.take(Sequence1)\n",
    "DF2\n",
    "#-----------------------------------------------------"
   ]
  },
  {
   "cell_type": "markdown",
   "metadata": {},
   "source": [
    "### Dummy variable creation "
   ]
  },
  {
   "cell_type": "code",
   "execution_count": null,
   "metadata": {},
   "outputs": [],
   "source": [
    "# Create a Column of Categorical Data \n",
    "\n",
    "DF1 = DataFrame({'key': ['b', 'b', 'a', 'c', 'a', 'b'],\n",
    "                 'data1': range(6)})\n",
    "DF1\n",
    "# Note that the Col <key> has categorical data \n",
    "#Now we create dummy columns  for the categorical data \n",
    "\n",
    "DummyDF = get_dummies(DF1['key'])\n",
    "DummyDF"
   ]
  },
  {
   "cell_type": "markdown",
   "metadata": {},
   "source": [
    "### End of Module 6 - Data Manipulation "
   ]
  }
 ],
 "metadata": {
  "kernelspec": {
   "display_name": "Python 3",
   "language": "python",
   "name": "python3"
  },
  "language_info": {
   "codemirror_mode": {
    "name": "ipython",
    "version": 3
   },
   "file_extension": ".py",
   "mimetype": "text/x-python",
   "name": "python",
   "nbconvert_exporter": "python",
   "pygments_lexer": "ipython3",
   "version": "3.6.7"
  }
 },
 "nbformat": 4,
 "nbformat_minor": 2
}
