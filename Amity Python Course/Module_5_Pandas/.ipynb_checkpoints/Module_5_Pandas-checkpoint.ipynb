{
 "cells": [
  {
   "cell_type": "markdown",
   "metadata": {},
   "source": [
    "#  MODULE 5:  Pandas\n",
    "\n"
   ]
  },
  {
   "cell_type": "markdown",
   "metadata": {},
   "source": [
    "## 1D Data structure :  The Series "
   ]
  },
  {
   "cell_type": "code",
   "execution_count": null,
   "metadata": {},
   "outputs": [],
   "source": [
    "from pandas import *\n",
    "from numpy import *\n",
    "from scipy import *\n",
    "Series1  = Series([1, 2, 3, 4])\n",
    "print(\"Series 1 is : \",Series1)"
   ]
  },
  {
   "cell_type": "code",
   "execution_count": null,
   "metadata": {},
   "outputs": [],
   "source": [
    "# Extracting the Index and Values separately from a Series \n",
    "Series1_Val = Series1.values\n",
    "Series1_Idx = Series1.index\n",
    "print(\"Series values \",Series1_Val)\n",
    "print(\"Series Indices \",Series1_Idx)"
   ]
  },
  {
   "cell_type": "code",
   "execution_count": null,
   "metadata": {},
   "outputs": [],
   "source": [
    "#------\n",
    "# Specifying a Series with Indics pre defined\n",
    "#-----\n",
    "Series2 = Series([1,2,3,4], index=['a','b','c','d'])\n",
    "print(\"Series2 = \",Series2)"
   ]
  },
  {
   "cell_type": "code",
   "execution_count": null,
   "metadata": {
    "scrolled": true
   },
   "outputs": [],
   "source": [
    "# Check Data Type of Array \n",
    "array_data1 = [1,2,3,4]\n",
    "Array1 = array(array_data1)\n",
    "print(\"data type of Array1 is : \",Array1.dtype)"
   ]
  },
  {
   "cell_type": "markdown",
   "metadata": {},
   "source": [
    "### Dictonary and Series \n"
   ]
  },
  {
   "cell_type": "code",
   "execution_count": null,
   "metadata": {},
   "outputs": [],
   "source": [
    "#-------------------------------------------\n",
    "# Converting Dictionary to Series \n",
    "#------------------------------------------\n",
    "sdata = {'Ohio': 35000, 'Texas': 71000, 'Oregon': 16000, 'Utah': 5000}\n",
    "Series_State = Series(sdata)\n",
    "# Now Check if Indices have the Keys \n",
    "print(\"Indices of Series are Keys of Dict: \",Series_State.index)"
   ]
  },
  {
   "cell_type": "code",
   "execution_count": null,
   "metadata": {},
   "outputs": [],
   "source": [
    "# Now check if the key value comes in values \n",
    "print(\"Value of the Series is the Value of the Dict: \",Series_State.values)"
   ]
  },
  {
   "cell_type": "code",
   "execution_count": null,
   "metadata": {},
   "outputs": [],
   "source": [
    "# Now consider passing Only key Values  with A Invalid Key \n",
    "States1 = ['Ohio','Texas','Oregon','California']\n",
    "Series_State2 = Series(sdata,index=States1)\n",
    "# Check Values now with this Key \n",
    "print(\"Values based on new key set \",Series_State2.values)\n",
    "# Observe the NA in the position of the invalid key "
   ]
  },
  {
   "cell_type": "code",
   "execution_count": null,
   "metadata": {},
   "outputs": [],
   "source": [
    "# ----------------------------------------------------------------\n",
    "# Detecting missing data in series\n",
    "#-----------------------------------------------------------------\n",
    "NullCheck = isnull(Series_State2)\n",
    "print(\"NullCheck is :  \" ,NullCheck)"
   ]
  },
  {
   "cell_type": "code",
   "execution_count": null,
   "metadata": {},
   "outputs": [],
   "source": [
    "# ------------------------------------------------------------\n",
    "# Naming the index and the Value Attributes in a Series \n",
    "#------------------------------------------------------------\n",
    "Series_State.name = 'population'\n",
    "Series_State.index.name = 'State'\n",
    "print(\"State Series \", Series_State)"
   ]
  },
  {
   "cell_type": "markdown",
   "metadata": {},
   "source": [
    "## Data Frames "
   ]
  },
  {
   "cell_type": "code",
   "execution_count": null,
   "metadata": {},
   "outputs": [],
   "source": [
    "# Create a Data Frame from a Equal length list or numpy arrays \n",
    "data = {'state': ['Ohio', 'Ohio', 'Ohio', 'Nevada', 'Nevada'],\n",
    "'year': [2000, 2001, 2002, 2001, 2002],\n",
    "'pop': [1.5, 1.7, 3.6, 2.4, 2.9]}\n",
    "\n",
    "# Check data type to confirm its a dictionary \n",
    "type(data)\n"
   ]
  },
  {
   "cell_type": "code",
   "execution_count": null,
   "metadata": {},
   "outputs": [],
   "source": [
    "# Display the keys of this dictionary\n",
    "print(data.keys())\n",
    "\n",
    "# Convert to Dataframe \n",
    "df = DataFrame(data)\n",
    "\n",
    "# Display the DataFrame \n",
    "print(df)\n",
    "# Note column names are in alphabetical order "
   ]
  },
  {
   "cell_type": "code",
   "execution_count": null,
   "metadata": {},
   "outputs": [],
   "source": [
    "# Customize column sequence \n",
    "df_new = DataFrame(data, columns=['year', 'state', 'pop'])\n",
    "\n",
    "# Retrieving col information \n",
    "State_Data = df_new.state\n",
    "\n",
    "# Display Retrieved Col \n",
    "State_Data "
   ]
  },
  {
   "cell_type": "code",
   "execution_count": null,
   "metadata": {},
   "outputs": [],
   "source": [
    "# Check the indices for this dataframe\n",
    "df_new.index\n",
    "\n",
    "# Print data for index position 2 \n",
    "print(df_new.ix[2])"
   ]
  },
  {
   "cell_type": "code",
   "execution_count": null,
   "metadata": {},
   "outputs": [],
   "source": [
    "# Re set data values - Year col all set to a scalar \n",
    "df_new['year'] = 2001\n",
    "\n",
    "# re check data in this data frame : All year values changed to 2001 \n",
    "df_new"
   ]
  },
  {
   "cell_type": "code",
   "execution_count": null,
   "metadata": {},
   "outputs": [],
   "source": [
    "# Create a New column \n",
    "df_2 = DataFrame(data, columns=['year', 'state', 'pop', 'debt'])\n",
    "\n",
    "# display new data frame \n",
    "df_2"
   ]
  },
  {
   "cell_type": "code",
   "execution_count": null,
   "metadata": {},
   "outputs": [],
   "source": [
    "# Fill Data in specified index positions in New Col \n",
    "val = Series([-1.2, -1.5, -1.7], index=[0, 1, 2])\n",
    "df_2['debt'] = val \n",
    "\n",
    "# Display Dataframe again \n",
    "df_2 "
   ]
  },
  {
   "cell_type": "code",
   "execution_count": null,
   "metadata": {},
   "outputs": [],
   "source": [
    "# Create a Computed Column \n",
    "# Just assign a column which does not exist \n",
    "# eg create a col which is true f state is Eastenr State of Ohio \n",
    "df_2[\"Eastern\"] = df_2.state == 'Ohio'\n",
    "\n",
    "# Display  again \n",
    "df_2"
   ]
  },
  {
   "cell_type": "code",
   "execution_count": null,
   "metadata": {},
   "outputs": [],
   "source": [
    "# Delete a column \n",
    "del df_2[\"Eastern\"]\n",
    "# Display again \n",
    "df_2\n"
   ]
  },
  {
   "cell_type": "code",
   "execution_count": null,
   "metadata": {},
   "outputs": [],
   "source": [
    "#-------------------------------------\n",
    "# Creating a Data Frame from a nested dict of dicts \n",
    "#-------------------------------------------------------------\n",
    "pop = {'Nevada': {2001: 2.4, 2002: 2.9},\n",
    "        'Ohio': {2000: 1.5, 2001: 1.7, 2002: 3.6}}\n",
    "df_3 = DataFrame(pop) \n",
    "# Display \n",
    "df_3 "
   ]
  },
  {
   "cell_type": "code",
   "execution_count": null,
   "metadata": {},
   "outputs": [],
   "source": [
    "# We can transpose as well \n",
    "df_3_T = df_3.T \n",
    "# Display Transposed \n",
    "df_3.T "
   ]
  },
  {
   "cell_type": "markdown",
   "metadata": {},
   "source": [
    "### More on Data Frames and  Indexing "
   ]
  },
  {
   "cell_type": "code",
   "execution_count": null,
   "metadata": {},
   "outputs": [],
   "source": [
    "# Create data Frame Note: Matrix fills By Row as default \n",
    "DF = DataFrame(np.arange(16).reshape((4, 4)),\n",
    "  index=['Ohio', 'Colorado', 'Utah', 'New York'],\n",
    "  columns=['one', 'two', 'three', 'four'])\n",
    "  \n",
    " # Display DF \n",
    "DF  \n"
   ]
  },
  {
   "cell_type": "code",
   "execution_count": null,
   "metadata": {},
   "outputs": [],
   "source": [
    "# drop rows \n",
    "DF_1 = DF.drop(['Colorado', 'Ohio'])\n",
    "# Display DF\n",
    "DF_1"
   ]
  },
  {
   "cell_type": "code",
   "execution_count": null,
   "metadata": {},
   "outputs": [],
   "source": [
    "# Drop columns : note columns are treated as axis 1 \n",
    "DF_2 = DF.drop('two',axis=1)\n",
    "# Display \n",
    "DF_2"
   ]
  },
  {
   "cell_type": "markdown",
   "metadata": {},
   "source": [
    "## Sub setting  and indexing data  structures "
   ]
  },
  {
   "cell_type": "markdown",
   "metadata": {},
   "source": [
    "### Indexing and subsetting Series "
   ]
  },
  {
   "cell_type": "code",
   "execution_count": null,
   "metadata": {},
   "outputs": [],
   "source": [
    "#------------------------------------------------------------\n",
    "#  Subselect data using indexing  - 1D Array \n",
    "#------------------------------------------------------------\n",
    "# Create a numeric array of size 6 \n",
    "Ser1 =  Series(np.arange(5.),index=['a', 'b', 'c', 'd','e'])\n",
    "# Display the Series \n",
    "Ser1"
   ]
  },
  {
   "cell_type": "code",
   "execution_count": null,
   "metadata": {},
   "outputs": [],
   "source": [
    "#Index by Index Name directly\n",
    "Ser1_Idx_b = Ser1['b']\n",
    "# Display extract\n",
    "Ser1_Idx_b"
   ]
  },
  {
   "cell_type": "code",
   "execution_count": null,
   "metadata": {},
   "outputs": [],
   "source": [
    "# Use a Index range to Redefine Series elements \n",
    "Ser1['b':'d'] = 55\n",
    "# Display after Re indexing \n",
    "Ser1"
   ]
  },
  {
   "cell_type": "markdown",
   "metadata": {},
   "source": [
    "### Subsetting and indexing on dataframes "
   ]
  },
  {
   "cell_type": "code",
   "execution_count": null,
   "metadata": {},
   "outputs": [],
   "source": [
    "# Create data Frame Note: Matrix fills By Row as default \n",
    "DF = DataFrame(np.arange(16).reshape((4, 4)),\n",
    "  index=['Ohio', 'Colorado', 'Utah', 'New York'],\n",
    "  columns=['one', 'two', 'three', 'four'])"
   ]
  },
  {
   "cell_type": "code",
   "execution_count": null,
   "metadata": {},
   "outputs": [],
   "source": [
    "# Slice Two columns from DF \n",
    "# Note the Double Subscripting  to refer to columns \n",
    "DF_subset = DF[['two','three']]\n",
    "# Display \n",
    "DF_subset "
   ]
  },
  {
   "cell_type": "code",
   "execution_count": null,
   "metadata": {},
   "outputs": [],
   "source": [
    "# Replace all data  values less than 5 with zeros \n",
    "#--\n",
    "DF[DF < 5] = 0\n",
    "# Check replacement \n",
    "DF"
   ]
  },
  {
   "cell_type": "code",
   "execution_count": null,
   "metadata": {},
   "outputs": [],
   "source": [
    "# Use Special indexing ix  to subselect rows then  cols \n",
    "#-------------------------------------------------------\n",
    "DF_One_row_2Cols = DF.ix['Colorado', ['two', 'three']]\n",
    "# Display \n",
    "DF_One_row_2Cols \n"
   ]
  },
  {
   "cell_type": "code",
   "execution_count": null,
   "metadata": {},
   "outputs": [],
   "source": [
    "# Row pos 2 col pos 3\n",
    "DF_Row2_Col3 = DF.ix[1,2]\n",
    "# Display \n",
    "DF_Row2_Col3"
   ]
  },
  {
   "cell_type": "markdown",
   "metadata": {},
   "source": [
    "### Applying Functions to dataframe cols or rows "
   ]
  },
  {
   "cell_type": "code",
   "execution_count": null,
   "metadata": {},
   "outputs": [],
   "source": [
    "df1 = DataFrame(np.arange(12.).reshape((3, 4)), columns=list('abcd'))\n",
    "# Display \n",
    "df1"
   ]
  },
  {
   "cell_type": "code",
   "execution_count": null,
   "metadata": {},
   "outputs": [],
   "source": [
    "#  default - summary applied over cols \n",
    "#-------------------\n",
    "MaxCol = np.max(df1)\n",
    "MaxCol\n",
    "#  summary applied over rows \n",
    "MaxRow = np.max(df1,axis=1)\n",
    "MaxRow"
   ]
  },
  {
   "cell_type": "code",
   "execution_count": null,
   "metadata": {},
   "outputs": [],
   "source": [
    "# Define  inline function \n",
    "f = lambda x: x.max() - x.min()\n",
    "Func_Res = df1.apply(f)\n",
    "Func_Res\n",
    "df1"
   ]
  },
  {
   "cell_type": "markdown",
   "metadata": {},
   "source": [
    "## Sorting for data structures "
   ]
  },
  {
   "cell_type": "code",
   "execution_count": null,
   "metadata": {},
   "outputs": [],
   "source": [
    "# 1)  sorting lexicographically by index \n",
    "#----------------------------------------------\n",
    "# define series  \n",
    "df1 = Series(range(4), index=['d', 'a', 'b', 'c'])\n",
    "#  Display \n",
    "df1 "
   ]
  },
  {
   "cell_type": "code",
   "execution_count": null,
   "metadata": {},
   "outputs": [],
   "source": [
    "# Sort on index \n",
    "df1_sorted = df1.sort_index()\n",
    "df1_sorted"
   ]
  },
  {
   "cell_type": "code",
   "execution_count": null,
   "metadata": {},
   "outputs": [],
   "source": [
    "# Sorting for 2D  Frame \n",
    "# Create a 2D DF\n",
    "DF2 = DataFrame(np.arange(8).reshape((2, 4)), index=['three', 'one'],\n",
    " columns=['d', 'a', 'b', 'c'])\n",
    "DF2"
   ]
  },
  {
   "cell_type": "code",
   "execution_count": null,
   "metadata": {},
   "outputs": [],
   "source": [
    "# Sort Index\n",
    "DF2_Srted = DF2.sort_index()\n",
    "# Display Sorted ( row index by default chosen )\n",
    "DF2_Srted "
   ]
  },
  {
   "cell_type": "code",
   "execution_count": null,
   "metadata": {},
   "outputs": [],
   "source": [
    "# sort by col index \n",
    "DF2_col_srt = DF2.sort_index(axis=1)\n",
    "# Display \n",
    "DF2_col_srt\n"
   ]
  },
  {
   "cell_type": "markdown",
   "metadata": {},
   "source": [
    "### End of Module 5 - Pandas "
   ]
  }
 ],
 "metadata": {
  "kernelspec": {
   "display_name": "Python 3",
   "language": "python",
   "name": "python3"
  },
  "language_info": {
   "codemirror_mode": {
    "name": "ipython",
    "version": 3
   },
   "file_extension": ".py",
   "mimetype": "text/x-python",
   "name": "python",
   "nbconvert_exporter": "python",
   "pygments_lexer": "ipython3",
   "version": "3.6.7"
  }
 },
 "nbformat": 4,
 "nbformat_minor": 2
}
